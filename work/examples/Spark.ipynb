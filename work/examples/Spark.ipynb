{
 "cells": [
  {
   "cell_type": "markdown",
   "id": "376497f0-2186-480f-84f4-5e7f7707dbdf",
   "metadata": {},
   "source": [
    "# Spark Basic Environment Information\n",
    "\n",
    "This is useful if you want to install maven dependencies Knowing the spark version (3.1.2) and Scala version (2.12) are important!\n",
    "\n",
    "Dependencies can be included using the following configuration to the session builder. For more than one config, add another line.\n",
    "\n",
    "`    .config(\"spark.jars.packages\",\"groupId:artifactId:version\")\\`\n",
    "\n",
    "For example for this maven config. https://mvnrepository.com/artifact/org.apache.spark/spark-hive_2.12/3.1.2\n",
    "\n",
    "the setup would be:\n",
    "\n",
    "`    .config(\"spark.jars.packages\",\"org.apache.spark:spark-hive_2.12:3.1.2\")\\`\n",
    "\n",
    "FOR REFERENCE:\n",
    "\n",
    " - Spark 3.1.2\n",
    " - Scala 2.12\n",
    " "
   ]
  },
  {
   "cell_type": "code",
   "execution_count": 3,
   "id": "1e6ec98d-1d75-4f77-a899-144ce7e3e19a",
   "metadata": {},
   "outputs": [],
   "source": [
    "import pyspark\n",
    "from pyspark.sql import SparkSession"
   ]
  },
  {
   "cell_type": "code",
   "execution_count": 10,
   "id": "16a6e22e-429d-47e2-ba58-4f336d0336a1",
   "metadata": {},
   "outputs": [],
   "source": [
    "# Spark init\n",
    "spark = SparkSession.builder \\\n",
    "    .master(\"local\") \\\n",
    "    .appName('jupyter-pyspark') \\\n",
    "    .config(\"spark.jars.packages\",\"org.apache.spark:spark-mllib_2.12:3.1.2\") \\\n",
    "    .getOrCreate()\n",
    "sc = spark.sparkContext\n",
    "sc.setLogLevel(\"ERROR\")"
   ]
  },
  {
   "cell_type": "code",
   "execution_count": 11,
   "id": "ff89a7f1-17a3-4051-82c8-1a430913bae6",
   "metadata": {},
   "outputs": [
    {
     "name": "stdout",
     "output_type": "stream",
     "text": [
      "Spark Context :  <SparkContext master=local appName=jupyter-pyspark>\n",
      "Spark Version :  3.1.2\n",
      "Spark appName : jupyter-pyspark\n",
      "Hadoop version:  3.2.0\n",
      "Spark Confiuration:\n",
      "\tspark.master = local\n",
      "\tspark.driver.port = 38423\n",
      "\tspark.driver.host = jupyter\n",
      "\tspark.app.id = local-1670513819571\n",
      "\tspark.executor.id = driver\n",
      "\tspark.driver.extraJavaOptions = -Dio.netty.tryReflectionSetAccessible=true\n",
      "\tspark.app.startTime = 1670513818695\n",
      "\tspark.app.name = jupyter-pyspark\n",
      "\tspark.rdd.compress = True\n",
      "\tspark.serializer.objectStreamReset = 100\n",
      "\tspark.submit.pyFiles = \n",
      "\tspark.submit.deployMode = client\n",
      "\tspark.executor.extraJavaOptions = -Dio.netty.tryReflectionSetAccessible=true\n",
      "\tspark.sql.warehouse.dir = file:/home/jovyan/work/examples/spark-warehouse\n",
      "\tspark.ui.showConsoleProgress = true\n"
     ]
    }
   ],
   "source": [
    "print('Spark Context : ', spark.sparkContext)\n",
    "print('Spark Version : ', spark.sparkContext.version)\n",
    "print('Spark appName :', spark.sparkContext.appName)\n",
    "print('Hadoop version: ', spark.sparkContext._gateway.jvm.org.apache.hadoop.util.VersionInfo.getVersion())\n",
    "print('Spark Confiuration:')\n",
    "for conf in spark.sparkContext._conf.getAll():\n",
    "    print(f\"\\t{conf[0]} = {conf[1]}\")"
   ]
  },
  {
   "cell_type": "markdown",
   "id": "88ad21a9-4d94-4dbc-bd6a-088b95690985",
   "metadata": {},
   "source": [
    "# Keyboard Shortcuts for Jupyter\n",
    "\n",
    "- SHIFT+ENTER => Execute the current cell and move to next cell\n",
    "- CTRL+ENTER => Execute Current cell and stay in current cell\n"
   ]
  },
  {
   "cell_type": "code",
   "execution_count": 9,
   "id": "de19af9d-9043-409f-b9cf-ad6f416121a3",
   "metadata": {},
   "outputs": [
    {
     "name": "stdout",
     "output_type": "stream",
     "text": [
      "Hello\n"
     ]
    }
   ],
   "source": [
    "print(\"Hello\")"
   ]
  },
  {
   "cell_type": "code",
   "execution_count": 7,
   "id": "583c7668-8fb3-445b-aaa7-c547d810aa3c",
   "metadata": {},
   "outputs": [
    {
     "name": "stdout",
     "output_type": "stream",
     "text": [
      "goodbye!\n"
     ]
    }
   ],
   "source": [
    "print(\"goodbye!\")"
   ]
  },
  {
   "cell_type": "code",
   "execution_count": null,
   "id": "e9f0e53f-54f6-459e-91e4-9757c88bc20a",
   "metadata": {},
   "outputs": [],
   "source": []
  },
  {
   "cell_type": "code",
   "execution_count": null,
   "id": "9ad7df56-4ced-43d5-afc1-f6356102512d",
   "metadata": {},
   "outputs": [],
   "source": []
  }
 ],
 "metadata": {
  "kernelspec": {
   "display_name": "Python 3 (ipykernel)",
   "language": "python",
   "name": "python3"
  },
  "language_info": {
   "codemirror_mode": {
    "name": "ipython",
    "version": 3
   },
   "file_extension": ".py",
   "mimetype": "text/x-python",
   "name": "python",
   "nbconvert_exporter": "python",
   "pygments_lexer": "ipython3",
   "version": "3.9.6"
  }
 },
 "nbformat": 4,
 "nbformat_minor": 5
}
