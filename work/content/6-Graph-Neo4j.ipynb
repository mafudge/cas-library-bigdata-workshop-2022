{
 "cells": [
  {
   "cell_type": "markdown",
   "id": "f7e47b1b-c82f-45df-822b-4c6bc96d607c",
   "metadata": {},
   "source": [
    "# Unit I\n",
    "# Graph Database Model\n",
    "\n",
    "- Examples From Video Lecture \n",
    "\n",
    "NOTE: Spark dataframe integration for Neo4j, at the time of integration did not have a maven repository setup with the proper version. Therefore we import it manually:"
   ]
  },
  {
   "cell_type": "code",
   "execution_count": 1,
   "id": "104e2bba-8871-48db-aad0-cdaf95da4cfd",
   "metadata": {},
   "outputs": [],
   "source": [
    "! sudo cp /home/jovyan/work/jars/neo4j-connector-apache-spark_2.12-4.1.0_for_spark_3.jar /usr/local/spark/jars/neo4j-connector-apache-spark_2.12-4.1.0_for_spark_3.jar"
   ]
  },
  {
   "cell_type": "code",
   "execution_count": 1,
   "id": "a4fe1e95-6403-4559-9e11-b8010b20b8a9",
   "metadata": {},
   "outputs": [
    {
     "name": "stderr",
     "output_type": "stream",
     "text": [
      "WARNING: An illegal reflective access operation has occurred\n",
      "WARNING: Illegal reflective access by org.apache.spark.unsafe.Platform (file:/usr/local/spark-3.1.2-bin-hadoop3.2/jars/spark-unsafe_2.12-3.1.2.jar) to constructor java.nio.DirectByteBuffer(long,int)\n",
      "WARNING: Please consider reporting this to the maintainers of org.apache.spark.unsafe.Platform\n",
      "WARNING: Use --illegal-access=warn to enable warnings of further illegal reflective access operations\n",
      "WARNING: All illegal access operations will be denied in a future release\n",
      "22/04/01 17:25:44 WARN NativeCodeLoader: Unable to load native-hadoop library for your platform... using builtin-java classes where applicable\n",
      "Using Spark's default log4j profile: org/apache/spark/log4j-defaults.properties\n",
      "Setting default log level to \"WARN\".\n",
      "To adjust logging level use sc.setLogLevel(newLevel). For SparkR, use setLogLevel(newLevel).\n"
     ]
    }
   ],
   "source": [
    "import pyspark\n",
    "from pyspark.sql import SparkSession\n",
    "# NEO4J  CONFIGURATION\n",
    "bolt_url = \"bolt://neo4j:7687\"\n",
    "# Spark init\n",
    "spark = SparkSession.builder \\\n",
    "    .master(\"local\") \\\n",
    "    .appName('jupyter-pyspark') \\\n",
    "    .getOrCreate()\n",
    "sc = spark.sparkContext\n",
    "sc.setLogLevel(\"ERROR\")"
   ]
  },
  {
   "cell_type": "markdown",
   "id": "f4af6250-1543-41df-98f2-965da18a8a27",
   "metadata": {},
   "source": [
    "## Cipher Query Language\n",
    "\n",
    "- These examples should be run from thhe Neo4j Web Client http://localhost:7474 \n",
    "\n",
    "### Merge/Create data\n",
    "\n",
    "```\n",
    "merge(f1:Faculty{name:'Mike'})-[t1:TEACHES{semester:'fall2021'}]->(c1:Course{code:'IST769'})\n",
    "merge(f1)-[t2:TEACHES{semester:'fall2021'}]->(c2:Course{code:'IST256'})\n",
    "merge(f1)-[p1:PROFESSOR_OF_RECORD]->(c3:Course{code:'IST659'})\n",
    "merge(f2:Faculty{name:'Jill'})-[t3:TEACHES{semester:'fall2021'}]->(c3))\n",
    "merge(f1)-[:TEACHES{semester:'spring2020'}]->(c3)\n",
    "```\n",
    "\n",
    "### Match Queries to Read Data\n",
    "\n",
    "```\n",
    "# pull the entire graph\n",
    "match (f:Faculty)-[t:TEACHES]->(c:Course) return f,c,t\n",
    "\n",
    "# pull the instructors of IST659\n",
    "match (f:Faculty)-[t:TEACHES]->(c:Course) where c.code=\"IST659\" return f,t,c\n",
    "\n",
    "# get data in a table: List of professors of record (note relationship direction)\n",
    "match (c:Course)<-[:PROFESSOR_OF_RECORD]-(f:Faculty) return c.code, f.name\n",
    "\n",
    "# Sorting. after you return\n",
    "match (c:Course) return c.code order by c.code\n",
    "\n",
    "```\n",
    "\n",
    "### Querying the Movie Graph\n",
    "\n",
    "```\n",
    "\n",
    "1. Build a graph of movies and reviewers\n",
    "MATCH (a:Person)-[d:REVIEWED]->(m:Movie) \n",
    "RETURN a,d,m\n",
    "\n",
    "\n",
    "2. Complete the same thing, but only review ratings over 70\n",
    "\n",
    "MATCH (a:Person)-[d:REVIEWED]->(m:Movie) \n",
    "where d.rating > 70\n",
    "RETURN a,d,m\n",
    "\n",
    "3. Build a graph of actors and directors with movies\n",
    "\n",
    "MATCH (p1:Person)-[a:ACTED_IN]->(m:Movie)<-[d:DIRECTED]-(p2:Person)\n",
    "RETURN p1,a,m,d,p2\n",
    "\n",
    "\n",
    "4.Build a graph of people who acted and directed the same movie\n",
    "MATCH (p:Person)-[a:ACTED_IN]->(m:Movie)<-[d:DIRECTED]-(p)\n",
    "RETURN p,a,m,d\n",
    "\n",
    "\n",
    "```\n",
    "\n",
    "\n",
    "### Updates and Deletes\n",
    "\n",
    "\n",
    "```\n",
    "# Setting attributes - they are all ischool courses\n",
    "\n",
    "match (c:Course) set c.college = \"iSchool\" return c\n",
    "\n",
    "# make  IST769 graduate level course data science type\n",
    "match (c:Course {code:\"IST769\"}) set c.level = \"Graduate\", c.type=\"Data Science\" return c\n",
    "\n",
    "# Make Jill the Professor of Record for IST659 instead of Mike\n",
    "\n",
    "# Add the jill relationship\n",
    "match (j:Faculty{name:\"Jill\"}),(c:Course{code:\"IST659\"})\n",
    "merge (j)-[p:PROFESSOR_OF_RECORD]->(c)\n",
    "return j,p,c\n",
    "\n",
    "# Remove the mike relationship\n",
    "match (m:Faculty{name:\"Mike\"})-[p:PROFESSOR_OF_RECORD]->(c:Course{code:\"IST659\"})\n",
    "delete p\n",
    "return m,c\n",
    "\n",
    "```\n",
    "\n",
    "\n",
    "### Graph Machine Learning Example\n",
    "\n",
    "- This example Calculates the \"sortest path\" in a weighted graph\n",
    "\n",
    "```\n",
    "## Make the weighted graph\n",
    "\n",
    "CREATE (a:Location {name: 'A'}), (b:Location {name: 'B'}), (c:Location {name: 'C'}), (d:Location {name: 'D'}), (e:Location {name: 'E'}), (f:Location {name: 'F'}), (a)-[:ROAD {cost: 50}]->(b), (a)-[:ROAD {cost: 50}]->(c), (a)-[:ROAD {cost: 100}]->(d), (b)-[:ROAD {cost: 40}]->(d), (c)-[:ROAD {cost: 40}]->(d), (c)-[:ROAD {cost: 80}]->(e), (d)-[:ROAD {cost: 30}]->(e), (d)-[:ROAD {cost: 80}]->(f), (e)-[:ROAD {cost: 40}]->(f);\n",
    "\n",
    "\n",
    "## Then call the algo\n",
    "\n",
    "MATCH (source:Location {name:'A'}), (target:Location {name:'F'})\n",
    "CALL gds.shortestPath.dijkstra.stream('myGraph',{\n",
    "   sourceNode:source, targetNode:target, relationshipWeightProperty:'cost'\n",
    "})\n",
    "YIELD index,sourceNode,targetNode,totalCost,nodeIds,costs,path\n",
    "RETURN\n",
    "   index,\n",
    "   gds.util.asNode(sourceNode).name AS sourceNodeName,\n",
    "   gds.util.asNode(targetNode).name AS targetNodeName,\n",
    "   totalCost,\n",
    "   [nodeId IN nodeIds | gds.util.asNode(nodeId).name] AS nodeNames,\n",
    "   costs, nodes(path) as path\n",
    "ORDER BY index\n",
    "\n",
    "```\n"
   ]
  },
  {
   "cell_type": "markdown",
   "id": "356262b7-4a78-4a37-bbc3-628249caf2ca",
   "metadata": {},
   "source": [
    "## Neo4j Spark Example\n",
    "\n",
    "- sample example of Faculty and Courses"
   ]
  },
  {
   "cell_type": "code",
   "execution_count": 3,
   "id": "c4d76e49-e09e-4434-9675-2023fef46824",
   "metadata": {},
   "outputs": [
    {
     "name": "stderr",
     "output_type": "stream",
     "text": [
      "                                                                                \r"
     ]
    }
   ],
   "source": [
    "# Erase the data!\n",
    "cipher_ql = '''\n",
    "MATCH (n)\n",
    "DETACH DELETE n\n",
    "'''\n",
    "df = spark.createDataFrame(data = [{'row':1}])\n",
    "df.write.format(\"org.neo4j.spark.DataSource\").mode(\"Overwrite\") \\\n",
    "  .option(\"url\", bolt_url) \\\n",
    "  .option(\"query\",cipher_ql) \\\n",
    "  .save()"
   ]
  },
  {
   "cell_type": "code",
   "execution_count": 4,
   "id": "645393a4-dad2-4636-b061-74f87a53899e",
   "metadata": {},
   "outputs": [
    {
     "data": {
      "text/html": [
       "<div>\n",
       "<style scoped>\n",
       "    .dataframe tbody tr th:only-of-type {\n",
       "        vertical-align: middle;\n",
       "    }\n",
       "\n",
       "    .dataframe tbody tr th {\n",
       "        vertical-align: top;\n",
       "    }\n",
       "\n",
       "    .dataframe thead th {\n",
       "        text-align: right;\n",
       "    }\n",
       "</style>\n",
       "<table border=\"1\" class=\"dataframe\">\n",
       "  <thead>\n",
       "    <tr style=\"text-align: right;\">\n",
       "      <th></th>\n",
       "      <th>facname</th>\n",
       "      <th>factitle</th>\n",
       "      <th>course</th>\n",
       "      <th>level</th>\n",
       "      <th>taught</th>\n",
       "      <th>is_por</th>\n",
       "    </tr>\n",
       "  </thead>\n",
       "  <tbody>\n",
       "    <tr>\n",
       "      <th>0</th>\n",
       "      <td>Mike</td>\n",
       "      <td>PoP</td>\n",
       "      <td>IST256</td>\n",
       "      <td>UGrad</td>\n",
       "      <td>Fall2021</td>\n",
       "      <td>False</td>\n",
       "    </tr>\n",
       "    <tr>\n",
       "      <th>1</th>\n",
       "      <td>Mike</td>\n",
       "      <td>PoP</td>\n",
       "      <td>IST659</td>\n",
       "      <td>Grad</td>\n",
       "      <td>Spring2021</td>\n",
       "      <td>True</td>\n",
       "    </tr>\n",
       "    <tr>\n",
       "      <th>2</th>\n",
       "      <td>Mike</td>\n",
       "      <td>PoP</td>\n",
       "      <td>IST769</td>\n",
       "      <td>Grad</td>\n",
       "      <td>Fall2021</td>\n",
       "      <td>False</td>\n",
       "    </tr>\n",
       "    <tr>\n",
       "      <th>3</th>\n",
       "      <td>Jill</td>\n",
       "      <td>Adjunct</td>\n",
       "      <td>IST659</td>\n",
       "      <td>Grad</td>\n",
       "      <td>Fall2021</td>\n",
       "      <td>False</td>\n",
       "    </tr>\n",
       "  </tbody>\n",
       "</table>\n",
       "</div>"
      ],
      "text/plain": [
       "  facname factitle  course  level      taught  is_por\n",
       "0    Mike      PoP  IST256  UGrad    Fall2021   False\n",
       "1    Mike      PoP  IST659   Grad  Spring2021    True\n",
       "2    Mike      PoP  IST769   Grad    Fall2021   False\n",
       "3    Jill  Adjunct  IST659   Grad    Fall2021   False"
      ]
     },
     "execution_count": 4,
     "metadata": {},
     "output_type": "execute_result"
    }
   ],
   "source": [
    "cols = [\"facname\",\"factitle\",\"course\",\"level\",\"taught\", \"is_por\"]\n",
    "data = [('Mike','PoP', \"IST256\", \"UGrad\",\"Fall2021\",False),('Mike','PoP', \"IST659\", \"Grad\",\"Spring2021\",True),('Mike','PoP', \"IST769\", \"Grad\",\"Fall2021\",False), ('Jill','Adjunct', \"IST659\", \"Grad\",\"Fall2021\",False)]\n",
    "profs = spark.createDataFrame(data = data, schema = cols)\n",
    "profs.toPandas()"
   ]
  },
  {
   "cell_type": "code",
   "execution_count": 6,
   "id": "4229c4c8-1819-4a5c-836f-0df2ec517add",
   "metadata": {},
   "outputs": [
    {
     "name": "stdout",
     "output_type": "stream",
     "text": [
      "Faculty...\n"
     ]
    },
    {
     "name": "stderr",
     "output_type": "stream",
     "text": [
      "                                                                                \r"
     ]
    }
   ],
   "source": [
    "# Write Data With a Cipher Query. Note that \"event\" refers to each row in the data frame\n",
    "\n",
    "print(\"Faculty...\")\n",
    "cipher_ql = \"MERGE (f:Faculty {name: event.facname , title: event.factitle})\"\n",
    "x = profs.select(\"facname\",\"factitle\").distinct()\n",
    "x.write.format(\"org.neo4j.spark.DataSource\").mode(\"Overwrite\") \\\n",
    "  .option(\"url\", bolt_url) \\\n",
    "  .option(\"query\",cipher_ql) \\\n",
    "  .save()\n"
   ]
  },
  {
   "cell_type": "code",
   "execution_count": 7,
   "id": "83af8f0c-7ee1-49cc-9f42-6a766f7b67fb",
   "metadata": {},
   "outputs": [
    {
     "name": "stdout",
     "output_type": "stream",
     "text": [
      "Courses...\n"
     ]
    },
    {
     "name": "stderr",
     "output_type": "stream",
     "text": [
      "                                                                                \r"
     ]
    }
   ],
   "source": [
    "print(\"Courses...\")\n",
    "cipher_ql = \"MERGE (c:Courses {code: event.course, level: event.level })\"\n",
    "profs.select(\"course\",\"level\").distinct().write.format(\"org.neo4j.spark.DataSource\").mode(\"Overwrite\") \\\n",
    "  .option(\"url\", bolt_url) \\\n",
    "  .option(\"query\",cipher_ql) \\\n",
    "  .save()\n"
   ]
  },
  {
   "cell_type": "code",
   "execution_count": 8,
   "id": "2f4ba4ea-2981-4a22-a15b-6838683a3fd3",
   "metadata": {},
   "outputs": [
    {
     "name": "stdout",
     "output_type": "stream",
     "text": [
      "Teaching...\n"
     ]
    }
   ],
   "source": [
    "print(\"Teaching...\")\n",
    "cipher_ql = '''\n",
    "MATCH (c:Courses {code: event.course}), (f:Faculty {name: event.facname})\n",
    "MERGE (f)-[:TEACHES {semester: event.taught}]->(c)\n",
    "'''\n",
    "profs.write.format(\"org.neo4j.spark.DataSource\").mode(\"Overwrite\") \\\n",
    "  .option(\"url\", bolt_url) \\\n",
    "  .option(\"query\",cipher_ql) \\\n",
    "  .save()\n",
    "\n"
   ]
  },
  {
   "cell_type": "code",
   "execution_count": 9,
   "id": "f43b189d-b651-44c3-9dd2-e2e889c95410",
   "metadata": {},
   "outputs": [
    {
     "name": "stdout",
     "output_type": "stream",
     "text": [
      "Professor of Record...\n"
     ]
    }
   ],
   "source": [
    "print(\"Professor of Record...\")\n",
    "cipher_ql = '''\n",
    "MATCH (c:Courses {code: event.course}), (f:Faculty {name: event.facname})\n",
    "MERGE (f)-[:PROFESSOR_OF_RECORD]->(c)\n",
    "'''\n",
    "profs.where(\"is_por\").write.format(\"org.neo4j.spark.DataSource\").mode(\"Overwrite\") \\\n",
    "  .option(\"url\", bolt_url) \\\n",
    "  .option(\"query\",cipher_ql) \\\n",
    "  .save()"
   ]
  },
  {
   "cell_type": "code",
   "execution_count": 10,
   "id": "875e79dc-2c49-48f1-98e2-36b3e4cbccc3",
   "metadata": {},
   "outputs": [
    {
     "data": {
      "text/html": [
       "<div>\n",
       "<style scoped>\n",
       "    .dataframe tbody tr th:only-of-type {\n",
       "        vertical-align: middle;\n",
       "    }\n",
       "\n",
       "    .dataframe tbody tr th {\n",
       "        vertical-align: top;\n",
       "    }\n",
       "\n",
       "    .dataframe thead th {\n",
       "        text-align: right;\n",
       "    }\n",
       "</style>\n",
       "<table border=\"1\" class=\"dataframe\">\n",
       "  <thead>\n",
       "    <tr style=\"text-align: right;\">\n",
       "      <th></th>\n",
       "      <th>c.code</th>\n",
       "      <th>c.level</th>\n",
       "      <th>t.semester</th>\n",
       "      <th>f.name</th>\n",
       "      <th>f.title</th>\n",
       "    </tr>\n",
       "  </thead>\n",
       "  <tbody>\n",
       "    <tr>\n",
       "      <th>0</th>\n",
       "      <td>IST769</td>\n",
       "      <td>Grad</td>\n",
       "      <td>Fall2021</td>\n",
       "      <td>Mike</td>\n",
       "      <td>PoP</td>\n",
       "    </tr>\n",
       "    <tr>\n",
       "      <th>1</th>\n",
       "      <td>IST659</td>\n",
       "      <td>Grad</td>\n",
       "      <td>Fall2021</td>\n",
       "      <td>Jill</td>\n",
       "      <td>Adjunct</td>\n",
       "    </tr>\n",
       "    <tr>\n",
       "      <th>2</th>\n",
       "      <td>IST659</td>\n",
       "      <td>Grad</td>\n",
       "      <td>Spring2021</td>\n",
       "      <td>Mike</td>\n",
       "      <td>PoP</td>\n",
       "    </tr>\n",
       "  </tbody>\n",
       "</table>\n",
       "</div>"
      ],
      "text/plain": [
       "   c.code c.level  t.semester f.name  f.title\n",
       "0  IST769    Grad    Fall2021   Mike      PoP\n",
       "1  IST659    Grad    Fall2021   Jill  Adjunct\n",
       "2  IST659    Grad  Spring2021   Mike      PoP"
      ]
     },
     "execution_count": 10,
     "metadata": {},
     "output_type": "execute_result"
    }
   ],
   "source": [
    "# Let's get the Grad teaching information:\n",
    "\n",
    "cipher_ql = '''\n",
    "MATCH (f:Faculty)-[t:TEACHES]->(c:Courses) \n",
    "WHERE c.level='Grad' \n",
    "RETURN c.code, c.level, t.semester, f.name, f.title\n",
    "'''\n",
    "#RETURN c.code, c.level, t.semester, f.name, f.title\n",
    "df2 = spark.read.format(\"org.neo4j.spark.DataSource\") \\\n",
    "  .option(\"url\", bolt_url) \\\n",
    "  .option(\"query\",cipher_ql) \\\n",
    "  .load()\n",
    "df2.toPandas()"
   ]
  },
  {
   "cell_type": "code",
   "execution_count": null,
   "id": "31b26875-8c29-4e8e-b442-6b6747cfb043",
   "metadata": {},
   "outputs": [],
   "source": [
    "# If you want to empty the graph database. This requires a \"one row\" dataframe as something must be sent to Neo4j \n",
    "\n",
    "cipher_ql = '''\n",
    "MATCH (n)\n",
    "DETACH DELETE n\n",
    "'''\n",
    "df = spark.createDataFrame(data = [{'row':1}]) # Dummy One Row DataFrame\n",
    "df.write.format(\"org.neo4j.spark.DataSource\").mode(\"Overwrite\") \\\n",
    "  .option(\"url\", bolt_url) \\\n",
    "  .option(\"query\",cipher_ql) \\\n",
    "  .save()\n"
   ]
  }
 ],
 "metadata": {
  "kernelspec": {
   "display_name": "Python 3 (ipykernel)",
   "language": "python",
   "name": "python3"
  },
  "language_info": {
   "codemirror_mode": {
    "name": "ipython",
    "version": 3
   },
   "file_extension": ".py",
   "mimetype": "text/x-python",
   "name": "python",
   "nbconvert_exporter": "python",
   "pygments_lexer": "ipython3",
   "version": "3.9.6"
  }
 },
 "nbformat": 4,
 "nbformat_minor": 5
}
