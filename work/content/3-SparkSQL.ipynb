{
 "cells": [
  {
   "attachments": {},
   "cell_type": "markdown",
   "id": "dca8b196-d83c-43ea-a2d1-839eedb26bc2",
   "metadata": {},
   "source": [
    "\n",
    "# SQL Over Anything with Spark\n",
    "\n",
    "- Examples From Video Lecture "
   ]
  },
  {
   "cell_type": "code",
   "execution_count": 1,
   "id": "91a9c15d-ab23-40ac-b0fb-69cfe1b32bf1",
   "metadata": {},
   "outputs": [
    {
     "name": "stderr",
     "output_type": "stream",
     "text": [
      "WARNING: An illegal reflective access operation has occurred\n",
      "WARNING: Illegal reflective access by org.apache.spark.unsafe.Platform (file:/usr/local/spark-3.1.2-bin-hadoop3.2/jars/spark-unsafe_2.12-3.1.2.jar) to constructor java.nio.DirectByteBuffer(long,int)\n",
      "WARNING: Please consider reporting this to the maintainers of org.apache.spark.unsafe.Platform\n",
      "WARNING: Use --illegal-access=warn to enable warnings of further illegal reflective access operations\n",
      "WARNING: All illegal access operations will be denied in a future release\n",
      "Ivy Default Cache set to: /home/jovyan/.ivy2/cache\n",
      "The jars for the packages stored in: /home/jovyan/.ivy2/jars\n",
      "org.apache.hadoop#hadoop-aws added as a dependency\n",
      "org.apache.spark#spark-avro_2.12 added as a dependency\n",
      ":: resolving dependencies :: org.apache.spark#spark-submit-parent-30663c14-27be-4f19-b3d3-ea4092fe4aac;1.0\n",
      "\tconfs: [default]\n"
     ]
    },
    {
     "name": "stdout",
     "output_type": "stream",
     "text": [
      ":: loading settings :: url = jar:file:/usr/local/spark-3.1.2-bin-hadoop3.2/jars/ivy-2.4.0.jar!/org/apache/ivy/core/settings/ivysettings.xml\n"
     ]
    },
    {
     "name": "stderr",
     "output_type": "stream",
     "text": [
      "\tfound org.apache.hadoop#hadoop-aws;3.1.2 in central\n",
      "\tfound com.amazonaws#aws-java-sdk-bundle;1.11.271 in central\n",
      "\tfound org.apache.spark#spark-avro_2.12;3.1.2 in central\n",
      "\tfound org.spark-project.spark#unused;1.0.0 in central\n",
      "downloading https://repo1.maven.org/maven2/org/apache/hadoop/hadoop-aws/3.1.2/hadoop-aws-3.1.2.jar ...\n",
      "\t[SUCCESSFUL ] org.apache.hadoop#hadoop-aws;3.1.2!hadoop-aws.jar (52ms)\n",
      "downloading https://repo1.maven.org/maven2/org/apache/spark/spark-avro_2.12/3.1.2/spark-avro_2.12-3.1.2.jar ...\n",
      "\t[SUCCESSFUL ] org.apache.spark#spark-avro_2.12;3.1.2!spark-avro_2.12.jar (34ms)\n",
      "downloading https://repo1.maven.org/maven2/com/amazonaws/aws-java-sdk-bundle/1.11.271/aws-java-sdk-bundle-1.11.271.jar ...\n",
      "\t[SUCCESSFUL ] com.amazonaws#aws-java-sdk-bundle;1.11.271!aws-java-sdk-bundle.jar (5540ms)\n",
      "downloading https://repo1.maven.org/maven2/org/spark-project/spark/unused/1.0.0/unused-1.0.0.jar ...\n",
      "\t[SUCCESSFUL ] org.spark-project.spark#unused;1.0.0!unused.jar (21ms)\n",
      ":: resolution report :: resolve 3196ms :: artifacts dl 5650ms\n",
      "\t:: modules in use:\n",
      "\tcom.amazonaws#aws-java-sdk-bundle;1.11.271 from central in [default]\n",
      "\torg.apache.hadoop#hadoop-aws;3.1.2 from central in [default]\n",
      "\torg.apache.spark#spark-avro_2.12;3.1.2 from central in [default]\n",
      "\torg.spark-project.spark#unused;1.0.0 from central in [default]\n",
      "\t---------------------------------------------------------------------\n",
      "\t|                  |            modules            ||   artifacts   |\n",
      "\t|       conf       | number| search|dwnlded|evicted|| number|dwnlded|\n",
      "\t---------------------------------------------------------------------\n",
      "\t|      default     |   4   |   4   |   4   |   0   ||   4   |   4   |\n",
      "\t---------------------------------------------------------------------\n",
      ":: retrieving :: org.apache.spark#spark-submit-parent-30663c14-27be-4f19-b3d3-ea4092fe4aac\n",
      "\tconfs: [default]\n",
      "\t4 artifacts copied, 0 already retrieved (84818kB/78ms)\n",
      "22/12/07 21:10:10 WARN NativeCodeLoader: Unable to load native-hadoop library for your platform... using builtin-java classes where applicable\n",
      "Using Spark's default log4j profile: org/apache/spark/log4j-defaults.properties\n",
      "Setting default log level to \"WARN\".\n",
      "To adjust logging level use sc.setLogLevel(newLevel). For SparkR, use setLogLevel(newLevel).\n",
      "22/12/07 21:10:11 WARN Utils: Service 'SparkUI' could not bind on port 4040. Attempting port 4041.\n"
     ]
    }
   ],
   "source": [
    "import pyspark\n",
    "from pyspark.sql import SparkSession\n",
    "\n",
    "bucket = \"e-drill\"\n",
    "\n",
    "spark = SparkSession.builder \\\n",
    "    .master(\"local\") \\\n",
    "    .appName('jupyter-pyspark') \\\n",
    "        .config(\"spark.jars.packages\",\"org.apache.hadoop:hadoop-aws:3.1.2,org.apache.spark:spark-avro_2.12:3.1.2\")\\\n",
    "        .config(\"spark.hadoop.fs.s3a.endpoint\", \"http://minio:9000\") \\\n",
    "        .config(\"spark.hadoop.fs.s3a.access.key\", \"minio\") \\\n",
    "        .config(\"spark.hadoop.fs.s3a.secret.key\", \"SU2orange!\") \\\n",
    "        .config(\"spark.hadoop.fs.s3a.fast.upload\", True) \\\n",
    "        .config(\"spark.hadoop.fs.s3a.path.style.access\", True) \\\n",
    "        .config(\"spark.hadoop.fs.s3a.impl\", \"org.apache.hadoop.fs.s3a.S3AFileSystem\") \\\n",
    "    .getOrCreate()\n",
    "sc = spark.sparkContext\n",
    "sc.setLogLevel(\"ERROR\") # Keeps the noise down!!!"
   ]
  },
  {
   "cell_type": "code",
   "execution_count": 5,
   "id": "2a08f444-c473-43ce-acae-5b1f952e2a33",
   "metadata": {},
   "outputs": [
    {
     "data": {
      "text/html": [
       "<div>\n",
       "<style scoped>\n",
       "    .dataframe tbody tr th:only-of-type {\n",
       "        vertical-align: middle;\n",
       "    }\n",
       "\n",
       "    .dataframe tbody tr th {\n",
       "        vertical-align: top;\n",
       "    }\n",
       "\n",
       "    .dataframe thead th {\n",
       "        text-align: right;\n",
       "    }\n",
       "</style>\n",
       "<table border=\"1\" class=\"dataframe\">\n",
       "  <thead>\n",
       "    <tr style=\"text-align: right;\">\n",
       "      <th></th>\n",
       "      <th>Email</th>\n",
       "      <th>Gender</th>\n",
       "      <th>State</th>\n",
       "      <th>Months Customer</th>\n",
       "    </tr>\n",
       "  </thead>\n",
       "  <tbody>\n",
       "    <tr>\n",
       "      <th>0</th>\n",
       "      <td>afresco@dayrep.com</td>\n",
       "      <td>M</td>\n",
       "      <td>NY</td>\n",
       "      <td>1</td>\n",
       "    </tr>\n",
       "    <tr>\n",
       "      <th>1</th>\n",
       "      <td>cling@superrito.com</td>\n",
       "      <td>F</td>\n",
       "      <td>NY</td>\n",
       "      <td>6</td>\n",
       "    </tr>\n",
       "    <tr>\n",
       "      <th>2</th>\n",
       "      <td>etasomthin@superrito.com</td>\n",
       "      <td>M</td>\n",
       "      <td>NY</td>\n",
       "      <td>28</td>\n",
       "    </tr>\n",
       "    <tr>\n",
       "      <th>3</th>\n",
       "      <td>jpoole@dayrep.com</td>\n",
       "      <td>F</td>\n",
       "      <td>NY</td>\n",
       "      <td>12</td>\n",
       "    </tr>\n",
       "    <tr>\n",
       "      <th>4</th>\n",
       "      <td>ojouglad@einrot.com</td>\n",
       "      <td>M</td>\n",
       "      <td>NY</td>\n",
       "      <td>36</td>\n",
       "    </tr>\n",
       "    <tr>\n",
       "      <th>5</th>\n",
       "      <td>rovlight@dayrep.com</td>\n",
       "      <td>M</td>\n",
       "      <td>NY</td>\n",
       "      <td>42</td>\n",
       "    </tr>\n",
       "    <tr>\n",
       "      <th>6</th>\n",
       "      <td>sladd@superrito.com</td>\n",
       "      <td>M</td>\n",
       "      <td>NY</td>\n",
       "      <td>10</td>\n",
       "    </tr>\n",
       "    <tr>\n",
       "      <th>7</th>\n",
       "      <td>titupp@superrito.com</td>\n",
       "      <td>F</td>\n",
       "      <td>NY</td>\n",
       "      <td>42</td>\n",
       "    </tr>\n",
       "    <tr>\n",
       "      <th>8</th>\n",
       "      <td>tpani@superrito.com</td>\n",
       "      <td>M</td>\n",
       "      <td>NY</td>\n",
       "      <td>1</td>\n",
       "    </tr>\n",
       "  </tbody>\n",
       "</table>\n",
       "</div>"
      ],
      "text/plain": [
       "                      Email Gender State  Months Customer\n",
       "0        afresco@dayrep.com      M    NY                1\n",
       "1       cling@superrito.com      F    NY                6\n",
       "2  etasomthin@superrito.com      M    NY               28\n",
       "3         jpoole@dayrep.com      F    NY               12\n",
       "4       ojouglad@einrot.com      M    NY               36\n",
       "5       rovlight@dayrep.com      M    NY               42\n",
       "6       sladd@superrito.com      M    NY               10\n",
       "7      titupp@superrito.com      F    NY               42\n",
       "8       tpani@superrito.com      M    NY                1"
      ]
     },
     "execution_count": 5,
     "metadata": {},
     "output_type": "execute_result"
    }
   ],
   "source": [
    "c = spark.read.csv(\"file:///home/jovyan/datasets/customers/customers.csv\", \n",
    "                   inferSchema=True, header=True)\n",
    "c.createOrReplaceTempView(\"customers\") # now its an SQL table in Spark!\n",
    "query = '''\n",
    "SELECT  Email, Gender, State, `Months Customer`\n",
    "FROM customers \n",
    "    WHERE State = 'NY'\n",
    "'''\n",
    "df = spark.sql(query)\n",
    "df.toPandas()"
   ]
  },
  {
   "cell_type": "markdown",
   "id": "b6f2f384-c5e6-4707-bdb2-59997b44c0c7",
   "metadata": {},
   "source": [
    "## Setup\n",
    "\n",
    "- Put data in the right places!!!\n",
    "- Run these cells to ensure you have the data for the examples"
   ]
  },
  {
   "cell_type": "code",
   "execution_count": 2,
   "id": "32a089d1-8e78-45b0-9669-8fbe1b431fac",
   "metadata": {},
   "outputs": [],
   "source": [
    "! pip install -q minio"
   ]
  },
  {
   "cell_type": "code",
   "execution_count": 10,
   "id": "b87a21da-98ef-4692-bd01-a620a834955f",
   "metadata": {},
   "outputs": [
    {
     "name": "stdout",
     "output_type": "stream",
     "text": [
      "+-------+------+\n",
      "|  price|symbol|\n",
      "+-------+------+\n",
      "| 126.82|  AAPL|\n",
      "|3098.12|  AMZN|\n",
      "| 251.11|    FB|\n",
      "|1725.05|  GOOG|\n",
      "| 128.39|   IBM|\n",
      "| 212.55|  MSFT|\n",
      "|   78.0|   NET|\n",
      "|  497.0|  NFLX|\n",
      "|  823.8|  TSLA|\n",
      "|  45.11|  TWTR|\n",
      "+-------+------+\n",
      "\n"
     ]
    },
    {
     "ename": "IllegalArgumentException",
     "evalue": "java.net.UnknownHostException: namenode",
     "output_type": "error",
     "traceback": [
      "\u001b[0;31m---------------------------------------------------------------------------\u001b[0m",
      "\u001b[0;31mIllegalArgumentException\u001b[0m                  Traceback (most recent call last)",
      "\u001b[0;32m/tmp/ipykernel_611/4236317884.py\u001b[0m in \u001b[0;36m<module>\u001b[0;34m\u001b[0m\n\u001b[1;32m     21\u001b[0m \u001b[0;34m\u001b[0m\u001b[0m\n\u001b[1;32m     22\u001b[0m \u001b[0;31m#put the examples in HDFS\u001b[0m\u001b[0;34m\u001b[0m\u001b[0;34m\u001b[0m\u001b[0;34m\u001b[0m\u001b[0m\n\u001b[0;32m---> 23\u001b[0;31m \u001b[0mgp\u001b[0m\u001b[0;34m.\u001b[0m\u001b[0mwrite\u001b[0m\u001b[0;34m.\u001b[0m\u001b[0mmode\u001b[0m\u001b[0;34m(\u001b[0m\u001b[0;34m\"Overwrite\"\u001b[0m\u001b[0;34m)\u001b[0m\u001b[0;34m.\u001b[0m\u001b[0mjson\u001b[0m\u001b[0;34m(\u001b[0m\u001b[0;34mf\"hdfs://namenode/user/root/{bucket}/google-places.json\"\u001b[0m\u001b[0;34m)\u001b[0m\u001b[0;34m\u001b[0m\u001b[0;34m\u001b[0m\u001b[0m\n\u001b[0m\u001b[1;32m     24\u001b[0m \u001b[0mc\u001b[0m\u001b[0;34m.\u001b[0m\u001b[0mwrite\u001b[0m\u001b[0;34m.\u001b[0m\u001b[0mmode\u001b[0m\u001b[0;34m(\u001b[0m\u001b[0;34m\"Overwrite\"\u001b[0m\u001b[0;34m)\u001b[0m\u001b[0;34m.\u001b[0m\u001b[0mcsv\u001b[0m\u001b[0;34m(\u001b[0m\u001b[0;34mf\"hdfs://namenode/user/root/{bucket}/customers.csv\"\u001b[0m\u001b[0;34m,\u001b[0m\u001b[0mheader\u001b[0m\u001b[0;34m=\u001b[0m\u001b[0;32mTrue\u001b[0m\u001b[0;34m)\u001b[0m\u001b[0;34m\u001b[0m\u001b[0;34m\u001b[0m\u001b[0m\n\u001b[1;32m     25\u001b[0m \u001b[0ms\u001b[0m\u001b[0;34m.\u001b[0m\u001b[0mwrite\u001b[0m\u001b[0;34m.\u001b[0m\u001b[0mmode\u001b[0m\u001b[0;34m(\u001b[0m\u001b[0;34m\"Overwrite\"\u001b[0m\u001b[0;34m)\u001b[0m\u001b[0;34m.\u001b[0m\u001b[0mcsv\u001b[0m\u001b[0;34m(\u001b[0m\u001b[0;34mf\"hdfs://namenode/user/root/{bucket}/surveys.csv\"\u001b[0m\u001b[0;34m,\u001b[0m\u001b[0mheader\u001b[0m\u001b[0;34m=\u001b[0m\u001b[0;32mTrue\u001b[0m\u001b[0;34m)\u001b[0m\u001b[0;34m\u001b[0m\u001b[0;34m\u001b[0m\u001b[0m\n",
      "\u001b[0;32m/usr/local/spark/python/pyspark/sql/readwriter.py\u001b[0m in \u001b[0;36mjson\u001b[0;34m(self, path, mode, compression, dateFormat, timestampFormat, lineSep, encoding, ignoreNullFields)\u001b[0m\n\u001b[1;32m   1212\u001b[0m             \u001b[0mcompression\u001b[0m\u001b[0;34m=\u001b[0m\u001b[0mcompression\u001b[0m\u001b[0;34m,\u001b[0m \u001b[0mdateFormat\u001b[0m\u001b[0;34m=\u001b[0m\u001b[0mdateFormat\u001b[0m\u001b[0;34m,\u001b[0m \u001b[0mtimestampFormat\u001b[0m\u001b[0;34m=\u001b[0m\u001b[0mtimestampFormat\u001b[0m\u001b[0;34m,\u001b[0m\u001b[0;34m\u001b[0m\u001b[0;34m\u001b[0m\u001b[0m\n\u001b[1;32m   1213\u001b[0m             lineSep=lineSep, encoding=encoding, ignoreNullFields=ignoreNullFields)\n\u001b[0;32m-> 1214\u001b[0;31m         \u001b[0mself\u001b[0m\u001b[0;34m.\u001b[0m\u001b[0m_jwrite\u001b[0m\u001b[0;34m.\u001b[0m\u001b[0mjson\u001b[0m\u001b[0;34m(\u001b[0m\u001b[0mpath\u001b[0m\u001b[0;34m)\u001b[0m\u001b[0;34m\u001b[0m\u001b[0;34m\u001b[0m\u001b[0m\n\u001b[0m\u001b[1;32m   1215\u001b[0m \u001b[0;34m\u001b[0m\u001b[0m\n\u001b[1;32m   1216\u001b[0m     \u001b[0;32mdef\u001b[0m \u001b[0mparquet\u001b[0m\u001b[0;34m(\u001b[0m\u001b[0mself\u001b[0m\u001b[0;34m,\u001b[0m \u001b[0mpath\u001b[0m\u001b[0;34m,\u001b[0m \u001b[0mmode\u001b[0m\u001b[0;34m=\u001b[0m\u001b[0;32mNone\u001b[0m\u001b[0;34m,\u001b[0m \u001b[0mpartitionBy\u001b[0m\u001b[0;34m=\u001b[0m\u001b[0;32mNone\u001b[0m\u001b[0;34m,\u001b[0m \u001b[0mcompression\u001b[0m\u001b[0;34m=\u001b[0m\u001b[0;32mNone\u001b[0m\u001b[0;34m)\u001b[0m\u001b[0;34m:\u001b[0m\u001b[0;34m\u001b[0m\u001b[0;34m\u001b[0m\u001b[0m\n",
      "\u001b[0;32m/usr/local/spark/python/lib/py4j-0.10.9-src.zip/py4j/java_gateway.py\u001b[0m in \u001b[0;36m__call__\u001b[0;34m(self, *args)\u001b[0m\n\u001b[1;32m   1302\u001b[0m \u001b[0;34m\u001b[0m\u001b[0m\n\u001b[1;32m   1303\u001b[0m         \u001b[0manswer\u001b[0m \u001b[0;34m=\u001b[0m \u001b[0mself\u001b[0m\u001b[0;34m.\u001b[0m\u001b[0mgateway_client\u001b[0m\u001b[0;34m.\u001b[0m\u001b[0msend_command\u001b[0m\u001b[0;34m(\u001b[0m\u001b[0mcommand\u001b[0m\u001b[0;34m)\u001b[0m\u001b[0;34m\u001b[0m\u001b[0;34m\u001b[0m\u001b[0m\n\u001b[0;32m-> 1304\u001b[0;31m         return_value = get_return_value(\n\u001b[0m\u001b[1;32m   1305\u001b[0m             answer, self.gateway_client, self.target_id, self.name)\n\u001b[1;32m   1306\u001b[0m \u001b[0;34m\u001b[0m\u001b[0m\n",
      "\u001b[0;32m/usr/local/spark/python/pyspark/sql/utils.py\u001b[0m in \u001b[0;36mdeco\u001b[0;34m(*a, **kw)\u001b[0m\n\u001b[1;32m    115\u001b[0m                 \u001b[0;31m# Hide where the exception came from that shows a non-Pythonic\u001b[0m\u001b[0;34m\u001b[0m\u001b[0;34m\u001b[0m\u001b[0;34m\u001b[0m\u001b[0m\n\u001b[1;32m    116\u001b[0m                 \u001b[0;31m# JVM exception message.\u001b[0m\u001b[0;34m\u001b[0m\u001b[0;34m\u001b[0m\u001b[0;34m\u001b[0m\u001b[0m\n\u001b[0;32m--> 117\u001b[0;31m                 \u001b[0;32mraise\u001b[0m \u001b[0mconverted\u001b[0m \u001b[0;32mfrom\u001b[0m \u001b[0;32mNone\u001b[0m\u001b[0;34m\u001b[0m\u001b[0;34m\u001b[0m\u001b[0m\n\u001b[0m\u001b[1;32m    118\u001b[0m             \u001b[0;32melse\u001b[0m\u001b[0;34m:\u001b[0m\u001b[0;34m\u001b[0m\u001b[0;34m\u001b[0m\u001b[0m\n\u001b[1;32m    119\u001b[0m                 \u001b[0;32mraise\u001b[0m\u001b[0;34m\u001b[0m\u001b[0;34m\u001b[0m\u001b[0m\n",
      "\u001b[0;31mIllegalArgumentException\u001b[0m: java.net.UnknownHostException: namenode"
     ]
    }
   ],
   "source": [
    "from minio import Minio\n",
    "\n",
    "# Make the minio bucket\n",
    "client = Minio(\"minio:9000\",\"minio\",\"SU2orange!\", secure=False)\n",
    "not client.bucket_exists(bucket) and client.make_bucket(bucket)\n",
    "\n",
    "# open the example(s)\n",
    "gp = spark.read.json(\"file:///home/jovyan/datasets/json-samples/google-places.json\")\n",
    "c = spark.read.csv(\"file:///home/jovyan/datasets/customers/customers.csv\", inferSchema=True, header=True)\n",
    "s = spark.read.csv(\"file:///home/jovyan/datasets/customers/surveys.csv\",inferSchema=True, header=True)\n",
    "g = spark.read.csv(\"file:///home/jovyan/datasets/grades/*.tsv\",inferSchema=False, header=False, sep=\"\\t\")\n",
    "k = spark.read.csv(\"file:///home/jovyan/datasets/stocks/stocks.csv\",inferSchema=True, header=True)\n",
    "k.show()\n",
    "# Put the examples in minio\n",
    "gp.write.mode(\"Overwrite\").json(f\"s3a://{bucket}/google-places.json\")\n",
    "c.write.mode(\"Overwrite\").csv(f\"s3a://{bucket}/customers.csv\",header=True)\n",
    "s.write.mode(\"Overwrite\").csv(f\"s3a://{bucket}/surveys.csv\",header=True)\n",
    "g.write.mode(\"Overwrite\").csv(f\"s3a://{bucket}/grades.csv\",header=False, sep=\",\")\n",
    "g.write.mode(\"Overwrite\").parquet(f\"s3a://{bucket}/grades.parquet\")\n",
    "k.write.mode(\"Overwrite\").csv(f\"s3a://{bucket}/stocks.csv\",header=True,sep=\",\")\n",
    "\n",
    "#put the examples in HDFS\n",
    "gp.write.mode(\"Overwrite\").json(f\"hdfs://namenode/user/root/{bucket}/google-places.json\")\n",
    "c.write.mode(\"Overwrite\").csv(f\"hdfs://namenode/user/root/{bucket}/customers.csv\",header=True)\n",
    "s.write.mode(\"Overwrite\").csv(f\"hdfs://namenode/user/root/{bucket}/surveys.csv\",header=True)\n",
    "g.write.mode(\"Overwrite\").csv(f\"hdfs://namenode/user/root/{bucket}/grades.csv\",header=False, sep=\",\")\n",
    "g.write.mode(\"Overwrite\").parquet(f\"hdfs://namenode/user/root/{bucket}/grades.parquet\")"
   ]
  },
  {
   "cell_type": "markdown",
   "id": "bd939c76-8290-4938-b211-ce76cc48c88f",
   "metadata": {},
   "source": []
  },
  {
   "cell_type": "markdown",
   "id": "c7fab600-f499-4b91-9b5e-24b94419f8e6",
   "metadata": {},
   "source": [
    "## Spark SQL\n",
    "\n",
    "- Spark Supports ANSI Standard SQL\n",
    "- Once you register a DataFrame as a Temp View, you can query it like an SQL table.\n",
    "- The output is a DataFrame, that you can maniuplate further with spark!"
   ]
  },
  {
   "cell_type": "code",
   "execution_count": 7,
   "id": "613c328a-d5cf-46d9-94b0-34e385a1d4a8",
   "metadata": {},
   "outputs": [
    {
     "name": "stdout",
     "output_type": "stream",
     "text": [
      "root\n",
      " |-- First: string (nullable = true)\n",
      " |-- Last: string (nullable = true)\n",
      " |-- Email: string (nullable = true)\n",
      " |-- Gender: string (nullable = true)\n",
      " |-- Last IP Address: string (nullable = true)\n",
      " |-- City: string (nullable = true)\n",
      " |-- State: string (nullable = true)\n",
      " |-- Total Orders: integer (nullable = true)\n",
      " |-- Total Purchased: integer (nullable = true)\n",
      " |-- Months Customer: integer (nullable = true)\n",
      "\n",
      "root\n",
      " |-- Email: string (nullable = true)\n",
      " |-- Twitter Username: string (nullable = true)\n",
      " |-- Marital Status: string (nullable = true)\n",
      " |-- Household Income: string (nullable = true)\n",
      " |-- Own Home: string (nullable = true)\n",
      " |-- Education: string (nullable = true)\n",
      " |-- Favorite Department: string (nullable = true)\n",
      "\n"
     ]
    }
   ],
   "source": [
    "c.createOrReplaceTempView(\"customers\")\n",
    "s.createOrReplaceTempView(\"surveys\")\n",
    "c.printSchema()\n",
    "s.printSchema()"
   ]
  },
  {
   "cell_type": "code",
   "execution_count": 8,
   "id": "abe978dc-bbee-40fd-ba63-e4ad906cb44a",
   "metadata": {},
   "outputs": [
    {
     "name": "stdout",
     "output_type": "stream",
     "text": [
      "+--------------------+------+-----+---------------+--------+--------------------+\n",
      "|               Email|Gender|State|Months Customer|Own Home|    Household Income|\n",
      "+--------------------+------+-----+---------------+--------+--------------------+\n",
      "|etasomthin@superr...|     M|   NY|             28|      No|               39000|\n",
      "|   jpoole@dayrep.com|     F|   NY|             12|     Yes|Prefer not to Answer|\n",
      "| ojouglad@einrot.com|     M|   NY|             36|      No|               65000|\n",
      "| rovlight@dayrep.com|     M|   NY|             42|      No|               28000|\n",
      "| sladd@superrito.com|     M|   NY|             10|     Yes|               52000|\n",
      "+--------------------+------+-----+---------------+--------+--------------------+\n",
      "\n",
      "root\n",
      " |-- Email: string (nullable = true)\n",
      " |-- Gender: string (nullable = true)\n",
      " |-- State: string (nullable = true)\n",
      " |-- Months Customer: integer (nullable = true)\n",
      " |-- Own Home: string (nullable = true)\n",
      " |-- Household Income: string (nullable = true)\n",
      "\n"
     ]
    }
   ],
   "source": [
    "query = '''\n",
    "select c.Email, c.Gender, c.State, c.`Months Customer`, s.`Own Home`, s.`Household Income`\n",
    "from customers c left join surveys s on \n",
    "        c.Email = s.Email\n",
    "    where c.State = 'NY'\n",
    "    and c.`Months Customer` > 5\n",
    "    and s.`Own Home` is not null\n",
    "'''\n",
    "df = spark.sql(query)\n",
    "df.show()\n",
    "df.printSchema()"
   ]
  },
  {
   "cell_type": "code",
   "execution_count": 88,
   "id": "6b6abe0a-c8e0-4819-90df-ee0e58bdaed3",
   "metadata": {},
   "outputs": [
    {
     "name": "stdout",
     "output_type": "stream",
     "text": [
      "root\n",
      " |-- First: string (nullable = true)\n",
      " |-- Last: string (nullable = true)\n",
      " |-- Email: string (nullable = true)\n",
      " |-- Gender: string (nullable = true)\n",
      " |-- Last IP Address: string (nullable = true)\n",
      " |-- City: string (nullable = true)\n",
      " |-- State: string (nullable = true)\n",
      " |-- Total Orders: integer (nullable = true)\n",
      " |-- Total Purchased: integer (nullable = true)\n",
      " |-- Months Customer: integer (nullable = true)\n",
      "\n",
      "root\n",
      " |-- Email: string (nullable = true)\n",
      " |-- Twitter Username: string (nullable = true)\n",
      " |-- Marital Status: string (nullable = true)\n",
      " |-- Household Income: string (nullable = true)\n",
      " |-- Own Home: string (nullable = true)\n",
      " |-- Education: string (nullable = true)\n",
      " |-- Favorite Department: string (nullable = true)\n",
      "\n"
     ]
    }
   ],
   "source": [
    "c.createOrReplaceTempView(\"customers\")\n",
    "s.createOrReplaceTempView(\"surveys\")\n",
    "c.printSchema()\n",
    "s.printSchema()"
   ]
  },
  {
   "cell_type": "code",
   "execution_count": 9,
   "id": "44a01321-9fe3-4eb6-bb52-0a1cbe956428",
   "metadata": {},
   "outputs": [
    {
     "name": "stdout",
     "output_type": "stream",
     "text": [
      "+--------------------+------+-----+---------------+--------+-------+\n",
      "|               Email|Gender|State|Months Customer|Own Home| Income|\n",
      "+--------------------+------+-----+---------------+--------+-------+\n",
      "|etasomthin@superr...|     M|   NY|             28|      No|39000.0|\n",
      "|   jpoole@dayrep.com|     F|   NY|             12|     Yes|   null|\n",
      "| ojouglad@einrot.com|     M|   NY|             36|      No|65000.0|\n",
      "| rovlight@dayrep.com|     M|   NY|             42|      No|28000.0|\n",
      "| sladd@superrito.com|     M|   NY|             10|     Yes|52000.0|\n",
      "+--------------------+------+-----+---------------+--------+-------+\n",
      "\n"
     ]
    }
   ],
   "source": [
    "\n",
    "query = '''\n",
    "select c.Email, c.Gender, c.State, c.`Months Customer`, s.`Own Home`, \n",
    "    case s.`Household Income` \n",
    "        when 'Prefer not to Answer' then null \n",
    "        else cast(s.`Household Income` as DOUBLE) \n",
    "    end as Income\n",
    "from customers c left join surveys s on \n",
    "        c.Email = s.Email\n",
    "    where c.State = 'NY'\n",
    "    and c.`Months Customer` > 5\n",
    "    and s.`Own Home` is not null\n",
    "'''\n",
    "df = spark.sql(query)\n",
    "df.show()"
   ]
  },
  {
   "cell_type": "code",
   "execution_count": 10,
   "id": "cbe23d1d-579b-4777-897c-a676177fe92f",
   "metadata": {},
   "outputs": [
    {
     "name": "stdout",
     "output_type": "stream",
     "text": [
      "root\n",
      " |-- Email: string (nullable = true)\n",
      " |-- Gender: string (nullable = true)\n",
      " |-- State: string (nullable = true)\n",
      " |-- Months Customer: integer (nullable = true)\n",
      " |-- Own Home: string (nullable = true)\n",
      " |-- Income: double (nullable = true)\n",
      "\n",
      "== Physical Plan ==\n",
      "*(2) Project [Email#368, Gender#369, State#372, Months Customer#375, Own Home#406, CASE WHEN (Household Income#405 = Prefer not to Answer) THEN null ELSE cast(Household Income#405 as double) END AS Income#656]\n",
      "+- *(2) BroadcastHashJoin [Email#368], [Email#402], Inner, BuildRight, false\n",
      "   :- *(2) Filter ((((isnotnull(State#372) AND isnotnull(Months Customer#375)) AND (State#372 = NY)) AND (Months Customer#375 > 5)) AND isnotnull(Email#368))\n",
      "   :  +- FileScan csv [Email#368,Gender#369,State#372,Months Customer#375] Batched: false, DataFilters: [isnotnull(State#372), isnotnull(Months Customer#375), (State#372 = NY), (Months Customer#375 > 5..., Format: CSV, Location: InMemoryFileIndex[file:/home/jovyan/datasets/customers/customers.csv], PartitionFilters: [], PushedFilters: [IsNotNull(State), IsNotNull(Months Customer), EqualTo(State,NY), GreaterThan(Months Customer,5),..., ReadSchema: struct<Email:string,Gender:string,State:string,Months Customer:int>\n",
      "   +- BroadcastExchange HashedRelationBroadcastMode(List(input[0, string, false]),false), [id=#387]\n",
      "      +- *(1) Filter (isnotnull(Own Home#406) AND isnotnull(Email#402))\n",
      "         +- FileScan csv [Email#402,Household Income#405,Own Home#406] Batched: false, DataFilters: [isnotnull(Own Home#406), isnotnull(Email#402)], Format: CSV, Location: InMemoryFileIndex[file:/home/jovyan/datasets/customers/surveys.csv], PartitionFilters: [], PushedFilters: [IsNotNull(Own Home), IsNotNull(Email)], ReadSchema: struct<Email:string,Household Income:string,Own Home:string>\n",
      "\n",
      "\n"
     ]
    }
   ],
   "source": [
    "df.printSchema()\n",
    "df.explain()\n",
    "df.createOrReplaceTempView(\"v_ny_customer_analysis\")"
   ]
  },
  {
   "cell_type": "markdown",
   "id": "e16b9037-d240-4ee8-9c85-a332b4ba12af",
   "metadata": {},
   "source": [
    "## Spark SQL works with Nested Data"
   ]
  },
  {
   "cell_type": "code",
   "execution_count": 11,
   "id": "f47d8f0b-07bb-41c1-b2c5-29f98be9a38b",
   "metadata": {},
   "outputs": [
    {
     "name": "stdout",
     "output_type": "stream",
     "text": [
      "root\n",
      " |-- business_status: string (nullable = true)\n",
      " |-- geometry: struct (nullable = true)\n",
      " |    |-- location: struct (nullable = true)\n",
      " |    |    |-- lat: double (nullable = true)\n",
      " |    |    |-- lng: double (nullable = true)\n",
      " |    |-- viewport: struct (nullable = true)\n",
      " |    |    |-- northeast: struct (nullable = true)\n",
      " |    |    |    |-- lat: double (nullable = true)\n",
      " |    |    |    |-- lng: double (nullable = true)\n",
      " |    |    |-- southwest: struct (nullable = true)\n",
      " |    |    |    |-- lat: double (nullable = true)\n",
      " |    |    |    |-- lng: double (nullable = true)\n",
      " |-- icon: string (nullable = true)\n",
      " |-- icon_background_color: string (nullable = true)\n",
      " |-- icon_mask_base_uri: string (nullable = true)\n",
      " |-- name: string (nullable = true)\n",
      " |-- opening_hours: struct (nullable = true)\n",
      " |    |-- open_now: boolean (nullable = true)\n",
      " |-- photos: array (nullable = true)\n",
      " |    |-- element: struct (containsNull = true)\n",
      " |    |    |-- height: long (nullable = true)\n",
      " |    |    |-- html_attributions: array (nullable = true)\n",
      " |    |    |    |-- element: string (containsNull = true)\n",
      " |    |    |-- photo_reference: string (nullable = true)\n",
      " |    |    |-- width: long (nullable = true)\n",
      " |-- place_id: string (nullable = true)\n",
      " |-- plus_code: struct (nullable = true)\n",
      " |    |-- compound_code: string (nullable = true)\n",
      " |    |-- global_code: string (nullable = true)\n",
      " |-- price_level: long (nullable = true)\n",
      " |-- rating: double (nullable = true)\n",
      " |-- reference: string (nullable = true)\n",
      " |-- scope: string (nullable = true)\n",
      " |-- types: array (nullable = true)\n",
      " |    |-- element: string (containsNull = true)\n",
      " |-- user_ratings_total: long (nullable = true)\n",
      " |-- vicinity: string (nullable = true)\n",
      "\n"
     ]
    }
   ],
   "source": [
    "gp.printSchema()"
   ]
  },
  {
   "cell_type": "code",
   "execution_count": 12,
   "id": "acaa0bf4-f3a9-4882-bb24-769ebd528513",
   "metadata": {},
   "outputs": [
    {
     "name": "stdout",
     "output_type": "stream",
     "text": [
      "+--------------------+-----------------+------------------+-----------------+\n",
      "|                name|              lat|               lng|             type|\n",
      "+--------------------+-----------------+------------------+-----------------+\n",
      "|            Syracuse|       43.0481221|-76.14742439999999|         locality|\n",
      "|            Syracuse|       43.0481221|-76.14742439999999|        political|\n",
      "|Crowne Plaza Syra...|       43.0476078|       -76.1417642|          lodging|\n",
      "|Crowne Plaza Syra...|       43.0476078|       -76.1417642|point_of_interest|\n",
      "|Crowne Plaza Syra...|       43.0476078|       -76.1417642|    establishment|\n",
      "|  The Parkview Hotel|       43.0476157|        -76.140986|          lodging|\n",
      "|  The Parkview Hotel|       43.0476157|        -76.140986|point_of_interest|\n",
      "|  The Parkview Hotel|       43.0476157|        -76.140986|    establishment|\n",
      "|Jefferson Clinton...|       43.0472894|-76.15385049999999|          lodging|\n",
      "|Jefferson Clinton...|       43.0472894|-76.15385049999999|point_of_interest|\n",
      "|Jefferson Clinton...|       43.0472894|-76.15385049999999|    establishment|\n",
      "|Courtyard by Marr...|       43.0488846|       -76.1561175|          lodging|\n",
      "|Courtyard by Marr...|       43.0488846|       -76.1561175|point_of_interest|\n",
      "|Courtyard by Marr...|       43.0488846|       -76.1561175|    establishment|\n",
      "|Quality Inn & Sui...|43.05264399999999|-76.14681999999999|          lodging|\n",
      "|Quality Inn & Sui...|43.05264399999999|-76.14681999999999|point_of_interest|\n",
      "|Quality Inn & Sui...|43.05264399999999|-76.14681999999999|    establishment|\n",
      "| Syracuse University|       43.0391534|       -76.1351158|       university|\n",
      "| Syracuse University|       43.0391534|       -76.1351158|point_of_interest|\n",
      "| Syracuse University|       43.0391534|       -76.1351158|    establishment|\n",
      "+--------------------+-----------------+------------------+-----------------+\n",
      "only showing top 20 rows\n",
      "\n"
     ]
    }
   ],
   "source": [
    "gp.createOrReplaceTempView(\"googleplaces\")\n",
    "query = '''\n",
    "select name, geometry.location.lat, geometry.location.lng, explode(types) as type from googleplaces\n",
    "'''\n",
    "spark.sql(query).show()"
   ]
  },
  {
   "cell_type": "markdown",
   "id": "11e496ad-18ed-4047-a23b-b712e052a1ac",
   "metadata": {},
   "source": [
    "## Registering a UDF for use in Spark SQL\n"
   ]
  },
  {
   "cell_type": "code",
   "execution_count": 13,
   "id": "ac863ca8-7340-41f7-bb6c-4bdd3fe910fd",
   "metadata": {},
   "outputs": [
    {
     "name": "stdout",
     "output_type": "stream",
     "text": [
      "+--------------------+--------------------+------+\n",
      "|               Email|           uc(Email)|Gender|\n",
      "+--------------------+--------------------+------+\n",
      "|etasomthin@superr...|ETASOMTHIN@SUPERR...|     M|\n",
      "|   jpoole@dayrep.com|   JPOOLE@DAYREP.COM|     F|\n",
      "| ojouglad@einrot.com| OJOUGLAD@EINROT.COM|     M|\n",
      "| rovlight@dayrep.com| ROVLIGHT@DAYREP.COM|     M|\n",
      "| sladd@superrito.com| SLADD@SUPERRITO.COM|     M|\n",
      "+--------------------+--------------------+------+\n",
      "\n"
     ]
    }
   ],
   "source": [
    "from pyspark.sql.functions import udf\n",
    "from pyspark.sql.types import * \n",
    "\n",
    "@udf(returnType=StringType()) \n",
    "def upperCase(str):\n",
    "    return str.upper()\n",
    "\n",
    "spark.udf.register(\"upperCase\", upperCase)\n",
    "\n",
    "spark.sql(\"select Email, upperCase(Email), Gender from v_ny_customer_analysis\").show()"
   ]
  },
  {
   "cell_type": "markdown",
   "id": "19f894bc-72c3-4cbe-9715-d6b29540eae1",
   "metadata": {},
   "source": [
    "## Listing views in Your Session"
   ]
  },
  {
   "cell_type": "code",
   "execution_count": 100,
   "id": "143905e8-fc4b-4818-93e3-1bdac7c4ce75",
   "metadata": {},
   "outputs": [
    {
     "name": "stdout",
     "output_type": "stream",
     "text": [
      "+---------+--------------------+-----------+\n",
      "|namespace|            viewName|isTemporary|\n",
      "+---------+--------------------+-----------+\n",
      "|         |           customers|       true|\n",
      "|         |        googleplaces|       true|\n",
      "|         |             surveys|       true|\n",
      "|         |v_ny_customer_ana...|       true|\n",
      "+---------+--------------------+-----------+\n",
      "\n"
     ]
    }
   ],
   "source": [
    "spark.sql(\"show views\").show()"
   ]
  },
  {
   "cell_type": "markdown",
   "id": "07a79dd9-36eb-45a4-b3b4-77f7ca4744fe",
   "metadata": {},
   "source": [
    "# Big Data To Small Data\n",
    "\n",
    "Using the `.toPandas()` function will materilaize the spark DataFrame as a Python Pandas dataframe. This allows us to use small-data features available in Python as our code is no longer executing on the cluster.\n",
    "\n",
    "## Graphing Output\n",
    "\n",
    "- A Spark DataFrame can be converted to a Python Pandas dataframe with the `toPandas()` function.\n",
    "- Once its in Pandas you can plot with standard plotting libraries.\n",
    "- https://pandas.pydata.org/pandas-docs/stable/user_guide/visualization.html\n"
   ]
  },
  {
   "cell_type": "code",
   "execution_count": 17,
   "id": "690766ed-2e89-4ae9-8696-0a2785668435",
   "metadata": {},
   "outputs": [
    {
     "data": {
      "text/plain": [
       "<AxesSubplot:xlabel='Email'>"
      ]
     },
     "execution_count": 17,
     "metadata": {},
     "output_type": "execute_result"
    },
    {
     "data": {
      "image/png": "[encoded data removed]",
      "text/plain": [
       "<Figure size 432x288 with 1 Axes>"
      ]
     },
     "metadata": {
      "needs_background": "light"
     },
     "output_type": "display_data"
    }
   ],
   "source": [
    "c.toPandas().plot.bar(x=\"Email\", y=\"Total Purchased\")"
   ]
  },
  {
   "cell_type": "markdown",
   "id": "72141e5c-33b5-4dee-86ab-0302cc564bd8",
   "metadata": {},
   "source": [
    "## IPywidgets\n",
    "\n",
    "- IPy Widgets allows us to create interactive notebooks\n",
    "- https://ipywidgets.readthedocs.io/en/latest/\n",
    "- This is a great example of going from \"Big Data\" to \"Small Data\"\n",
    "- As a rule, we don't want to produce small data (Pandas DataFrame) until we have mapped or reduced results."
   ]
  },
  {
   "cell_type": "code",
   "execution_count": 4,
   "id": "0a286643-3bf4-4044-ae51-081b8f2a3f42",
   "metadata": {},
   "outputs": [
    {
     "data": {
      "text/html": [
       "<h1>Customers By State</h1>"
      ],
      "text/plain": [
       "<IPython.core.display.HTML object>"
      ]
     },
     "metadata": {},
     "output_type": "display_data"
    },
    {
     "name": "stderr",
     "output_type": "stream",
     "text": [
      "                                                                                \r"
     ]
    },
    {
     "data": {
      "application/vnd.jupyter.widget-view+json": {
       "model_id": "0dbd13d8921145568e41b4626da72d13",
       "version_major": 2,
       "version_minor": 0
      },
      "text/plain": [
       "interactive(children=(Dropdown(description='state', options=('AZ', 'CA', 'CT', 'FL', 'IL', 'KS', 'MA', 'ME', '…"
      ]
     },
     "metadata": {},
     "output_type": "display_data"
    }
   ],
   "source": [
    "from IPython.display import display, HTML\n",
    "from ipywidgets import interact, interact_manual\n",
    "c = spark.read.csv(\"file:///home/jovyan/datasets/customers/customers.csv\", inferSchema=True, header=True)\n",
    "\n",
    "display(HTML(\"<h1>Customers By State</h1>\"))\n",
    "states = c.select(\"State\").distinct().toPandas()[\"State\"].values\n",
    "states.sort()\n",
    "@interact(state=states)\n",
    "def main(state :str):\n",
    "    rows = c.where( c.State == state).toPandas()\n",
    "    display(rows)"
   ]
  },
  {
   "cell_type": "code",
   "execution_count": 1,
   "id": "9b12f3ec-7d83-4df9-9b72-c9f145f11fe9",
   "metadata": {},
   "outputs": [
    {
     "data": {
      "text/html": [
       "<h1>Customers By Total Purchased</h1>"
      ],
      "text/plain": [
       "<IPython.core.display.HTML object>"
      ]
     },
     "metadata": {},
     "output_type": "display_data"
    },
    {
     "ename": "NameError",
     "evalue": "name 'c' is not defined",
     "output_type": "error",
     "traceback": [
      "\u001b[0;31m---------------------------------------------------------------------------\u001b[0m",
      "\u001b[0;31mNameError\u001b[0m                                 Traceback (most recent call last)",
      "\u001b[0;32m/tmp/ipykernel_190/2516209164.py\u001b[0m in \u001b[0;36m<module>\u001b[0;34m\u001b[0m\n\u001b[1;32m     16\u001b[0m )\n\u001b[1;32m     17\u001b[0m \u001b[0;34m\u001b[0m\u001b[0m\n\u001b[0;32m---> 18\u001b[0;31m \u001b[0mc\u001b[0m\u001b[0;34m.\u001b[0m\u001b[0mcreateOrReplaceTempView\u001b[0m\u001b[0;34m(\u001b[0m\u001b[0;34m\"customers\"\u001b[0m\u001b[0;34m)\u001b[0m\u001b[0;34m\u001b[0m\u001b[0;34m\u001b[0m\u001b[0m\n\u001b[0m\u001b[1;32m     19\u001b[0m \u001b[0;34m\u001b[0m\u001b[0m\n\u001b[1;32m     20\u001b[0m \u001b[0;34m@\u001b[0m\u001b[0minteract_manual\u001b[0m\u001b[0;34m(\u001b[0m\u001b[0mpurchased\u001b[0m\u001b[0;34m=\u001b[0m\u001b[0mrangewidget\u001b[0m\u001b[0;34m)\u001b[0m\u001b[0;34m\u001b[0m\u001b[0;34m\u001b[0m\u001b[0m\n",
      "\u001b[0;31mNameError\u001b[0m: name 'c' is not defined"
     ]
    }
   ],
   "source": [
    "from IPython.display import display, HTML\n",
    "from ipywidgets import interact, interact_manual, widgets\n",
    "\n",
    "display(HTML(\"<h1>Customers By Total Purchased</h1>\"))\n",
    "rangewidget = widgets.IntRangeSlider(\n",
    "    value=[10, 1000],\n",
    "    min=0,\n",
    "    max=5000,\n",
    "    step=10,\n",
    "    description='Total Purchased:',\n",
    "    disabled=False,\n",
    "    continuous_update=True,\n",
    "    orientation='horizontal',\n",
    "    readout=True,\n",
    "    readout_format='d',\n",
    ")\n",
    "\n",
    "c.createOrReplaceTempView(\"customers\")\n",
    "\n",
    "@interact_manual(purchased=rangewidget)\n",
    "def main(purchased: int):\n",
    "    query = f'select * from customers where `Total Purchased` between {purchased[0]} and {purchased[1]}'\n",
    "    display(spark.sql(query).toPandas())\n",
    "    "
   ]
  },
  {
   "cell_type": "code",
   "execution_count": 8,
   "id": "46da17f1-409e-4f18-a8e2-afff59489dbc",
   "metadata": {},
   "outputs": [
    {
     "name": "stdout",
     "output_type": "stream",
     "text": [
      "root\n",
      " |-- Email: string (nullable = true)\n",
      " |-- Twitter Username: string (nullable = true)\n",
      " |-- Marital Status: string (nullable = true)\n",
      " |-- Household Income: string (nullable = true)\n",
      " |-- Own Home: string (nullable = true)\n",
      " |-- Education: string (nullable = true)\n",
      " |-- Favorite Department: string (nullable = true)\n",
      "\n"
     ]
    }
   ],
   "source": [
    "s.printSchema()"
   ]
  },
  {
   "cell_type": "code",
   "execution_count": 9,
   "id": "33b0602e-ba1a-46c2-9bff-c191758f2c8f",
   "metadata": {},
   "outputs": [
    {
     "name": "stdout",
     "output_type": "stream",
     "text": [
      "+--------------------+----------------+--------------------+--------------------+--------------------+--------------------+--------------------+\n",
      "|               Email|Twitter Username|      Marital Status|    Household Income|            Own Home|           Education| Favorite Department|\n",
      "+--------------------+----------------+--------------------+--------------------+--------------------+--------------------+--------------------+\n",
      "|lhvmeehom@einrot.com|       lhvmeehom|Prefer not to Answer|               75000|                 Yes|       4 Year Degree|Prefer not to Answer|\n",
      "|etasomthin@superr...|      etasomthin|             Married|               39000|                  No|       2 Year Degree|Prefer not to Answer|\n",
      "| sladd@superrito.com|           sladd|             Married|               52000|                 Yes|       2 Year Degree|                None|\n",
      "|     akuss@rhyta.com|           akuss|              Single|               22500|                  No|         High School|                None|\n",
      "|    ccayne@rhyta.com|          ccayne|             Married|               62000|                 Yes|       4 Year Degree|                None|\n",
      "|bbarion@superrito...|         bbarion|              Single|               74000|                  No|       4 Year Degree|             Jewelry|\n",
      "| tpani@superrito.com|           tpani|Prefer not to Answer|               89000|                 Yes|     Graduate Degree|             Jewelry|\n",
      "|sbellum@superrito...|         sbellum|             Married|              100000|                 Yes|     Graduate Degree|             Jewelry|\n",
      "|  mrofone@dayrep.com|         mrofone|              Single|              121000|                 Yes|Prefer not to Answer|             Jewelry|\n",
      "| ddelyons@dayrep.com|        ddelyons|              Single|              105000|                 Yes|         High School|         Electronics|\n",
      "| ojouglad@einrot.com|        ojouglad|             Married|               65000|                  No|       4 Year Degree|         Electronics|\n",
      "|bdehatchett@dayre...|     bdehatchett|Prefer not to Answer|               67000|                 Yes|       4 Year Degree|         Electronics|\n",
      "|  rdeboat@dayrep.com|         rdeboat|              Single|               69000|                 Yes|     Graduate Degree|         Electronics|\n",
      "| bmelator@einrot.com|        bmelator|              Single|               13000|                  No|       2 Year Degree|   Digital Downloads|\n",
      "|    tanott@rhyta.com|          tanott|              Single|               26000|                  No|       2 Year Degree|   Digital Downloads|\n",
      "| rovlight@dayrep.com|        rovlight|Prefer not to Answer|               28000|                  No|       2 Year Degree|   Digital Downloads|\n",
      "|    vrhee@einrot.com|           vrhee|Prefer not to Answer|               17500|                  No|         High School|               Books|\n",
      "|   jpoole@dayrep.com|          jpoole|             Married|Prefer not to Answer|                 Yes|        Some College|               Books|\n",
      "|  mmelator@rhyta.com|        mmelator|Prefer not to Answer|               42000|                  No|       4 Year Degree|               Books|\n",
      "|     crha@einrot.com|            crha|             Married|               34000|Prefer not to Answer|       4 Year Degree|               Books|\n",
      "+--------------------+----------------+--------------------+--------------------+--------------------+--------------------+--------------------+\n",
      "only showing top 20 rows\n",
      "\n"
     ]
    }
   ],
   "source": [
    "s.orderBy(\"Favorite Department\", ascending = False).show()\n"
   ]
  },
  {
   "cell_type": "code",
   "execution_count": 12,
   "id": "64f39819-5172-472a-a68c-e5b08ed0a32f",
   "metadata": {},
   "outputs": [
    {
     "name": "stdout",
     "output_type": "stream",
     "text": [
      "+--------------------+----------------+--------------------+--------------------+--------------------+--------------------+--------------------+\n",
      "|               Email|Twitter Username|      Marital Status|    Household Income|            Own Home|           Education| Favorite Department|\n",
      "+--------------------+----------------+--------------------+--------------------+--------------------+--------------------+--------------------+\n",
      "|lhvmeehom@einrot.com|       lhvmeehom|Prefer not to Answer|               75000|                 Yes|       4 Year Degree|Prefer not to Answer|\n",
      "|etasomthin@superr...|      etasomthin|             Married|               39000|                  No|       2 Year Degree|Prefer not to Answer|\n",
      "| sladd@superrito.com|           sladd|             Married|               52000|                 Yes|       2 Year Degree|                None|\n",
      "|     akuss@rhyta.com|           akuss|              Single|               22500|                  No|         High School|                None|\n",
      "|    ccayne@rhyta.com|          ccayne|             Married|               62000|                 Yes|       4 Year Degree|                None|\n",
      "|bbarion@superrito...|         bbarion|              Single|               74000|                  No|       4 Year Degree|             Jewelry|\n",
      "| tpani@superrito.com|           tpani|Prefer not to Answer|               89000|                 Yes|     Graduate Degree|             Jewelry|\n",
      "|sbellum@superrito...|         sbellum|             Married|              100000|                 Yes|     Graduate Degree|             Jewelry|\n",
      "|  mrofone@dayrep.com|         mrofone|              Single|              121000|                 Yes|Prefer not to Answer|             Jewelry|\n",
      "| ddelyons@dayrep.com|        ddelyons|              Single|              105000|                 Yes|         High School|         Electronics|\n",
      "| ojouglad@einrot.com|        ojouglad|             Married|               65000|                  No|       4 Year Degree|         Electronics|\n",
      "|bdehatchett@dayre...|     bdehatchett|Prefer not to Answer|               67000|                 Yes|       4 Year Degree|         Electronics|\n",
      "|  rdeboat@dayrep.com|         rdeboat|              Single|               69000|                 Yes|     Graduate Degree|         Electronics|\n",
      "| bmelator@einrot.com|        bmelator|              Single|               13000|                  No|       2 Year Degree|   Digital Downloads|\n",
      "|    tanott@rhyta.com|          tanott|              Single|               26000|                  No|       2 Year Degree|   Digital Downloads|\n",
      "| rovlight@dayrep.com|        rovlight|Prefer not to Answer|               28000|                  No|       2 Year Degree|   Digital Downloads|\n",
      "|    vrhee@einrot.com|           vrhee|Prefer not to Answer|               17500|                  No|         High School|               Books|\n",
      "|   jpoole@dayrep.com|          jpoole|             Married|Prefer not to Answer|                 Yes|        Some College|               Books|\n",
      "|  mmelator@rhyta.com|        mmelator|Prefer not to Answer|               42000|                  No|       4 Year Degree|               Books|\n",
      "|     crha@einrot.com|            crha|             Married|               34000|Prefer not to Answer|       4 Year Degree|               Books|\n",
      "+--------------------+----------------+--------------------+--------------------+--------------------+--------------------+--------------------+\n",
      "only showing top 20 rows\n",
      "\n"
     ]
    }
   ],
   "source": [
    "s.orderBy(s[\"Favorite Department\"],ascending = False).show()"
   ]
  },
  {
   "cell_type": "code",
   "execution_count": 16,
   "id": "070d6d33-ef39-4aef-8067-a6445e9dbdd1",
   "metadata": {},
   "outputs": [
    {
     "name": "stdout",
     "output_type": "stream",
     "text": [
      "+--------------------+----------------+--------------------+----------------+--------+-------------+--------------------+\n",
      "|               Email|Twitter Username|      Marital Status|Household Income|Own Home|    Education| Favorite Department|\n",
      "+--------------------+----------------+--------------------+----------------+--------+-------------+--------------------+\n",
      "|lhvmeehom@einrot.com|       lhvmeehom|Prefer not to Answer|           75000|     Yes|4 Year Degree|Prefer not to Answer|\n",
      "|etasomthin@superr...|      etasomthin|             Married|           39000|      No|2 Year Degree|Prefer not to Answer|\n",
      "+--------------------+----------------+--------------------+----------------+--------+-------------+--------------------+\n",
      "\n"
     ]
    }
   ],
   "source": [
    "s.filter( \"`Favorite Department` LIKE 'Prefer%' \" ).show()\n"
   ]
  },
  {
   "cell_type": "code",
   "execution_count": 23,
   "id": "919e0491-989b-44c2-93d3-69e93a0e69ef",
   "metadata": {},
   "outputs": [
    {
     "name": "stdout",
     "output_type": "stream",
     "text": [
      "+--------------------+----------------+--------------------+----------------+--------+-------------+--------------------+\n",
      "|               Email|Twitter Username|      Marital Status|Household Income|Own Home|    Education| Favorite Department|\n",
      "+--------------------+----------------+--------------------+----------------+--------+-------------+--------------------+\n",
      "|lhvmeehom@einrot.com|       lhvmeehom|Prefer not to Answer|           75000|     Yes|4 Year Degree|Prefer not to Answer|\n",
      "|etasomthin@superr...|      etasomthin|             Married|           39000|      No|2 Year Degree|Prefer not to Answer|\n",
      "+--------------------+----------------+--------------------+----------------+--------+-------------+--------------------+\n",
      "\n"
     ]
    }
   ],
   "source": [
    "from pyspark.sql.functions import *\n",
    "s.filter(col(\"Favorite Department\").startswith(\"Prefer\") ).show()"
   ]
  },
  {
   "cell_type": "code",
   "execution_count": 24,
   "id": "5a0a0483-cf89-481e-ac53-58d5ddd72a0c",
   "metadata": {},
   "outputs": [],
   "source": [
    "s.createOrReplaceTempView(\"surveys\")"
   ]
  },
  {
   "cell_type": "code",
   "execution_count": 26,
   "id": "003604b6-065d-4701-929b-d78c607102e0",
   "metadata": {},
   "outputs": [
    {
     "name": "stdout",
     "output_type": "stream",
     "text": [
      "+--------+---------+-----------+\n",
      "|database|tableName|isTemporary|\n",
      "+--------+---------+-----------+\n",
      "|        |  surveys|       true|\n",
      "+--------+---------+-----------+\n",
      "\n"
     ]
    }
   ],
   "source": [
    "spark.sql(\"show tables\").show()"
   ]
  },
  {
   "cell_type": "code",
   "execution_count": 27,
   "id": "7b516b59-13bc-4c16-8418-8324498c471c",
   "metadata": {},
   "outputs": [
    {
     "name": "stdout",
     "output_type": "stream",
     "text": [
      "+--------------------+----------------+--------------------+----------------+--------+-------------+--------------------+\n",
      "|               Email|Twitter Username|      Marital Status|Household Income|Own Home|    Education| Favorite Department|\n",
      "+--------------------+----------------+--------------------+----------------+--------+-------------+--------------------+\n",
      "|lhvmeehom@einrot.com|       lhvmeehom|Prefer not to Answer|           75000|     Yes|4 Year Degree|Prefer not to Answer|\n",
      "|etasomthin@superr...|      etasomthin|             Married|           39000|      No|2 Year Degree|Prefer not to Answer|\n",
      "+--------------------+----------------+--------------------+----------------+--------+-------------+--------------------+\n",
      "\n"
     ]
    }
   ],
   "source": [
    "z =spark.sql(\"select * from surveys where `Favorite Department` like 'Prefer%'\")"
   ]
  },
  {
   "cell_type": "code",
   "execution_count": 28,
   "id": "8471bc94-8737-4894-aa1b-6522336edbe3",
   "metadata": {},
   "outputs": [],
   "source": [
    "y = s.filter(col(\"Favorite Department\").startswith(\"Prefer\") )\n",
    "z =spark.sql(\"select * from surveys where `Favorite Department` like 'Prefer%'\")"
   ]
  },
  {
   "cell_type": "code",
   "execution_count": 29,
   "id": "d6b8fbb2-b246-4e10-86c5-3fb512a5ead8",
   "metadata": {},
   "outputs": [
    {
     "name": "stdout",
     "output_type": "stream",
     "text": [
      "== Physical Plan ==\n",
      "*(1) Filter (isnotnull(Favorite Department#99) AND StartsWith(Favorite Department#99, Prefer))\n",
      "+- FileScan csv [Email#93,Twitter Username#94,Marital Status#95,Household Income#96,Own Home#97,Education#98,Favorite Department#99] Batched: false, DataFilters: [isnotnull(Favorite Department#99), StartsWith(Favorite Department#99, Prefer)], Format: CSV, Location: InMemoryFileIndex[file:/home/jovyan/datasets/customers/surveys.csv], PartitionFilters: [], PushedFilters: [IsNotNull(Favorite Department), StringStartsWith(Favorite Department,Prefer)], ReadSchema: struct<Email:string,Twitter Username:string,Marital Status:string,Household Income:string,Own Hom...\n",
      "\n",
      "\n"
     ]
    }
   ],
   "source": [
    "y.explain()"
   ]
  },
  {
   "cell_type": "code",
   "execution_count": 30,
   "id": "64774c58-a554-4211-9330-fca16fe90ed5",
   "metadata": {},
   "outputs": [
    {
     "name": "stdout",
     "output_type": "stream",
     "text": [
      "== Physical Plan ==\n",
      "*(1) Filter (isnotnull(Favorite Department#99) AND StartsWith(Favorite Department#99, Prefer))\n",
      "+- FileScan csv [Email#93,Twitter Username#94,Marital Status#95,Household Income#96,Own Home#97,Education#98,Favorite Department#99] Batched: false, DataFilters: [isnotnull(Favorite Department#99), StartsWith(Favorite Department#99, Prefer)], Format: CSV, Location: InMemoryFileIndex[file:/home/jovyan/datasets/customers/surveys.csv], PartitionFilters: [], PushedFilters: [IsNotNull(Favorite Department), StringStartsWith(Favorite Department,Prefer)], ReadSchema: struct<Email:string,Twitter Username:string,Marital Status:string,Household Income:string,Own Hom...\n",
      "\n",
      "\n"
     ]
    }
   ],
   "source": [
    "z.explain()"
   ]
  },
  {
   "cell_type": "code",
   "execution_count": 32,
   "id": "7fb62da3-b8b3-4c07-b0b9-5ed7648590e1",
   "metadata": {},
   "outputs": [
    {
     "name": "stdout",
     "output_type": "stream",
     "text": [
      "+--------------------+\n",
      "|               Email|\n",
      "+--------------------+\n",
      "|lhvmeehom@einrot.com|\n",
      "|etasomthin@superr...|\n",
      "+--------------------+\n",
      "\n"
     ]
    }
   ],
   "source": [
    "query = '''\n",
    "\n",
    "SELECT *\n",
    "    FROM  surveys\n",
    "    WHERE `Favorite Department` like 'Prefer%'\n",
    "\n",
    "'''\n",
    "\n",
    "spark.sql(query)"
   ]
  },
  {
   "cell_type": "code",
   "execution_count": null,
   "id": "5683dbd8-6b9f-47b8-abd5-af510dc999f0",
   "metadata": {},
   "outputs": [],
   "source": [
    "#pyspark\n",
    "spark.read.csv(\"s3a://....\")"
   ]
  },
  {
   "cell_type": "code",
   "execution_count": null,
   "id": "2ef9c374-3e89-4030-a832-513765686f05",
   "metadata": {},
   "outputs": [],
   "source": [
    "spark.read.format(\"csv\").load(\"s3a:///...\")"
   ]
  },
  {
   "cell_type": "code",
   "execution_count": null,
   "id": "a23bd86d-da06-41e2-81b0-0d7e50f79f94",
   "metadata": {},
   "outputs": [],
   "source": [
    "s.write.format(\"foo.bvar.avro\").mode(\"errorifexists\")\\\n",
    "    .option(\"sep\",\"-\").option(\"header\",True).save(\"file:///foo.csv\")"
   ]
  },
  {
   "cell_type": "code",
   "execution_count": 38,
   "id": "30f74f9d-8710-42d1-97dd-6d094f5332e9",
   "metadata": {},
   "outputs": [
    {
     "name": "stdout",
     "output_type": "stream",
     "text": [
      "+-----------------+------------------+\n",
      "|              lat|               lng|\n",
      "+-----------------+------------------+\n",
      "|       43.0481221|-76.14742439999999|\n",
      "|       43.0476078|       -76.1417642|\n",
      "|       43.0476157|        -76.140986|\n",
      "|       43.0472894|-76.15385049999999|\n",
      "|       43.0488846|       -76.1561175|\n",
      "|43.05264399999999|-76.14681999999999|\n",
      "|       43.0391534|       -76.1351158|\n",
      "|       43.0464172|-76.13539879999999|\n",
      "|       43.0526411|-76.15469379999999|\n",
      "|43.04396249999999|-76.13607999999999|\n",
      "|43.04123120000001|       -76.1338203|\n",
      "|       43.0446639|       -76.1481366|\n",
      "|       43.0457297|       -76.1483396|\n",
      "|       43.0414634|        -76.138599|\n",
      "|        43.048302|        -76.155406|\n",
      "|        43.050228|        -76.154804|\n",
      "|43.03901020000001|       -76.1389683|\n",
      "|        43.042709|        -76.140511|\n",
      "|43.04229789999999|       -76.1395979|\n",
      "|43.03426049999999|       -76.1242405|\n",
      "+-----------------+------------------+\n",
      "\n"
     ]
    }
   ],
   "source": [
    "gp.select(\"geometry.location.lat\",gp.geometry.location.lng.alias(\"lng\")  ).show()"
   ]
  },
  {
   "cell_type": "code",
   "execution_count": 39,
   "id": "4a2d38b5-22c5-4f78-9f21-bc60eed94abe",
   "metadata": {},
   "outputs": [
    {
     "name": "stdout",
     "output_type": "stream",
     "text": [
      "+-----------------+------------------+\n",
      "|          g.l.lat|           g.l.lng|\n",
      "+-----------------+------------------+\n",
      "|       43.0481221|-76.14742439999999|\n",
      "|       43.0476078|       -76.1417642|\n",
      "|       43.0476157|        -76.140986|\n",
      "|       43.0472894|-76.15385049999999|\n",
      "|       43.0488846|       -76.1561175|\n",
      "|43.05264399999999|-76.14681999999999|\n",
      "|       43.0391534|       -76.1351158|\n",
      "|       43.0464172|-76.13539879999999|\n",
      "|       43.0526411|-76.15469379999999|\n",
      "|43.04396249999999|-76.13607999999999|\n",
      "|43.04123120000001|       -76.1338203|\n",
      "|       43.0446639|       -76.1481366|\n",
      "|       43.0457297|       -76.1483396|\n",
      "|       43.0414634|        -76.138599|\n",
      "|        43.048302|        -76.155406|\n",
      "|        43.050228|        -76.154804|\n",
      "|43.03901020000001|       -76.1389683|\n",
      "|        43.042709|        -76.140511|\n",
      "|43.04229789999999|       -76.1395979|\n",
      "|43.03426049999999|       -76.1242405|\n",
      "+-----------------+------------------+\n",
      "\n"
     ]
    }
   ],
   "source": [
    "gp.select(col(\"geometry.location.lat\").alias(\"g.l.lat\"),gp.geometry.location.lng.alias(\"g.l.lng\")  ).show()"
   ]
  },
  {
   "cell_type": "code",
   "execution_count": 41,
   "id": "6783380a-8ffb-4629-a676-e4bedb087b09",
   "metadata": {},
   "outputs": [
    {
     "name": "stdout",
     "output_type": "stream",
     "text": [
      "+-----------------+------------------+\n",
      "|          g.l.lat|           g.l.lng|\n",
      "+-----------------+------------------+\n",
      "|       43.0481221|-76.14742439999999|\n",
      "|       43.0476078|       -76.1417642|\n",
      "|       43.0476157|        -76.140986|\n",
      "|       43.0472894|-76.15385049999999|\n",
      "|       43.0488846|       -76.1561175|\n",
      "|43.05264399999999|-76.14681999999999|\n",
      "|       43.0391534|       -76.1351158|\n",
      "|       43.0464172|-76.13539879999999|\n",
      "|       43.0526411|-76.15469379999999|\n",
      "|43.04396249999999|-76.13607999999999|\n",
      "|43.04123120000001|       -76.1338203|\n",
      "|       43.0446639|       -76.1481366|\n",
      "|       43.0457297|       -76.1483396|\n",
      "|       43.0414634|        -76.138599|\n",
      "|        43.048302|        -76.155406|\n",
      "|        43.050228|        -76.154804|\n",
      "|43.03901020000001|       -76.1389683|\n",
      "|        43.042709|        -76.140511|\n",
      "|43.04229789999999|       -76.1395979|\n",
      "|43.03426049999999|       -76.1242405|\n",
      "+-----------------+------------------+\n",
      "\n"
     ]
    }
   ],
   "source": [
    "gp.select(\"geometry.location.lat\",gp.geometry.location.lng ).toDF(\"g.l.lat\",\"g.l.lng\").show()"
   ]
  },
  {
   "cell_type": "code",
   "execution_count": 45,
   "id": "88dbc921-10ed-4a70-8fe2-012012c7dad5",
   "metadata": {},
   "outputs": [],
   "source": [
    "from pyspark import SparkFiles"
   ]
  },
  {
   "cell_type": "code",
   "execution_count": 50,
   "id": "d766fff6-b16b-446e-8400-f4143b4da0a6",
   "metadata": {},
   "outputs": [
    {
     "name": "stdout",
     "output_type": "stream",
     "text": [
      "root\n",
      " |-- Year: integer (nullable = true)\n",
      " |-- Population: double (nullable = true)\n",
      " |-- Violent crime total: double (nullable = true)\n",
      " |-- Murder and nonnegligent Manslaughter: double (nullable = true)\n",
      " |-- Forcible rape: double (nullable = true)\n",
      " |-- Robbery: double (nullable = true)\n",
      " |-- Aggravated assault: double (nullable = true)\n",
      " |-- Property crime total: double (nullable = true)\n",
      " |-- Burglary: double (nullable = true)\n",
      " |-- Larceny-theft: double (nullable = true)\n",
      " |-- Motor vehicle theft: double (nullable = true)\n",
      " |-- _c11: string (nullable = true)\n",
      "\n"
     ]
    }
   ],
   "source": [
    "spark.sparkContext.addFile(\"https://raw.githubusercontent.com/mafudge/datasets/master/crime/nys-crime-1960-2012.csv\")\n",
    "df = spark.read.option(\"inferSchema\",True).option(\"header\", True)\\\n",
    "    .csv(SparkFiles.get(\"nys-crime-1960-2012.csv\"))\n",
    "df.printSchema()"
   ]
  },
  {
   "cell_type": "code",
   "execution_count": 49,
   "id": "78fc2b3f-d78f-438f-b742-6329a6ed10bc",
   "metadata": {},
   "outputs": [
    {
     "data": {
      "text/plain": [
       "'/tmp/spark-69583df6-d589-41c4-83a9-4de535ffd62c/userFiles-00fd3eba-9da4-466b-b3d8-c534dab26904/nys-crime-1960-2012.csv'"
      ]
     },
     "execution_count": 49,
     "metadata": {},
     "output_type": "execute_result"
    }
   ],
   "source": [
    "SparkFiles.get(\"nys-crime-1960-2012.csv\")"
   ]
  },
  {
   "cell_type": "code",
   "execution_count": 6,
   "id": "acc42f9f-5ce9-4fc9-add3-d0ac0be71ca3",
   "metadata": {},
   "outputs": [
    {
     "data": {
      "application/vnd.jupyter.widget-view+json": {
       "model_id": "f45b0ea8597c4b95a142e549ef11ba76",
       "version_major": 2,
       "version_minor": 0
      },
      "text/plain": [
       "interactive(children=(Text(value='', description='name'), IntSlider(value=50, description='age', max=99, min=1…"
      ]
     },
     "metadata": {},
     "output_type": "display_data"
    }
   ],
   "source": [
    "from IPython.display import display, HTML\n",
    "from ipywidgets import interact, interact_manual\n",
    "\n",
    "\n",
    "@interact_manual(name=\"\", age=(1,99), retired=False, hobbies=[\"Biking\",\"Skiing\"])\n",
    "def onclick(name,age,retired,hobbies):\n",
    "    display(HTML(f\"<p>{name}, {age} {retired} {hobbies}\"))\n",
    "    \n"
   ]
  },
  {
   "cell_type": "code",
   "execution_count": null,
   "id": "19d34af9-10e1-4b90-aa79-12c2112b5c63",
   "metadata": {},
   "outputs": [],
   "source": []
  }
 ],
 "metadata": {
  "kernelspec": {
   "display_name": "Python 3",
   "language": "python",
   "name": "python3"
  },
  "language_info": {
   "codemirror_mode": {
    "name": "ipython",
    "version": 3
   },
   "file_extension": ".py",
   "mimetype": "text/x-python",
   "name": "python",
   "nbconvert_exporter": "python",
   "pygments_lexer": "ipython3",
   "version": "3.8.10 (default, Jun 22 2022, 20:18:18) \n[GCC 9.4.0]"
  },
  "vscode": {
   "interpreter": {
    "hash": "916dbcbb3f70747c44a77c7bcd40155683ae19c65e1c03b4aa3499c5328201f1"
   }
  }
 },
 "nbformat": 4,
 "nbformat_minor": 5
}
