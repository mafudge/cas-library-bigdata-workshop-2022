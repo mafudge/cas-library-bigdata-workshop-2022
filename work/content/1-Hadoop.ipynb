{
 "cells": [
  {
   "cell_type": "markdown",
   "id": "1e1a3625-d0db-44b9-9386-d78d43c7738d",
   "metadata": {},
   "source": [
    "# Hadoop\n",
    "\n",
    "- Examples From Video Lecture "
   ]
  },
  {
   "cell_type": "markdown",
   "id": "6db40f25-0a92-4f9b-b5d6-7d86c18f02b2",
   "metadata": {},
   "source": [
    "##  Demo HDFS\n",
    "\n",
    "```\n",
    "# From windows, connect to the Linux instance\n",
    "PS:>  docker compose exec hive-server bash\n",
    "\n",
    "# Basic Commands\n",
    "$ hdfs dfs –command\n",
    "OR\n",
    "$ Hadoop fs –command\n",
    "\n",
    "# what is the current directory?\n",
    "$Hadoop fs –ls\n",
    " # its /user/root\n",
    "\n",
    "# make it\n",
    "$ Hadoop fs –mkdir /user/root\n",
    "\n",
    "# make a folder\n",
    "$ Hadoop fs –mkdir /user/root/grades\n",
    "\n",
    "# upload to Hadoop\n",
    "$ Hadoop fs –put /datasets/grades/*.tsv  /user/root/grades/\n",
    "\n",
    "### View on  Web… look at those block sizes.\n",
    "\n",
    "\n",
    "# copy a file\n",
    "hadoop fs -cp grades/fall2015.tsv grades/foo.tsv\n",
    "\n",
    "# combine with cat\n",
    "Hadoop fs –cat grades/*\n",
    "\n",
    "# make a file with getmerge – a useful command when a reducer produces more than one fgile\n",
    "Hadoop fs –getmerge grades/* allgrades.tsv\n",
    "\n",
    "```"
   ]
  },
  {
   "cell_type": "markdown",
   "id": "24f0b594-4ff2-4bab-b615-0560639a9270",
   "metadata": {},
   "source": [
    "## Demo Connecting to Hive\n",
    "\n",
    "```\n",
    "# From windows connect to the hive server\n",
    "PS:> docker-compose exec hive-server bash\n",
    "\n",
    "# From linux start the hive client\n",
    "$ beeline -u jdbc:hive2://localhost:10000/default\n",
    "\n",
    "# now you are in the Hive client\n",
    "beeline> Show databases\n",
    "\n",
    "beeline> Show tables\n",
    "\n",
    "beeline> Create database\n",
    "\n",
    "```"
   ]
  },
  {
   "cell_type": "markdown",
   "id": "b6a54d0c-8261-4577-9b71-16a35ae20bf6",
   "metadata": {},
   "source": [
    "## Demo Hive Internal Managed  Tables\n",
    "```\n",
    "\n",
    "beeline> !sh hadoop fs -ls /user/root/grades\n",
    "\n",
    "beeline> !sh hadoop fs -cat /user/root/grades/*\n",
    "\n",
    "beeline> create table grades_internal ( year INT, semster STRING, course STRING, credits INT, grade STRING) row format delimited fields terminated by ‘\\t’;\n",
    "\n",
    "beeline> show tables;\n",
    "\n",
    "beeline> select * from grades_internal;\n",
    "\n",
    "# LOAD DATA\n",
    "beeline> load data inpath ‘/user/root/grades/*.tsv’ overwrite into table grades_internal;\n",
    "\n",
    "beeline> select * from grades_internal;\n",
    "\n",
    "beeline> select sum(credits), year from grades_internal group by year;\n",
    "\n",
    "beeline> drop table grades_internal;\n",
    "\n",
    "# data is gone\n",
    "beeline> !sh hadoop fs -ls /user/hive/warehouse/grades_int\n",
    "\n",
    "\n",
    "```"
   ]
  },
  {
   "cell_type": "markdown",
   "id": "45a04901-aaa3-4d00-ab69-e50c8cb2a48c",
   "metadata": {},
   "source": [
    "## Demo Hive External Tables\n",
    "\n",
    "```\n",
    "# re-load some grades into HDFS\n",
    "beeline> !sh  hadoop fs -put /datasets/grades/fall2015.tsv /user/root/grades\n",
    "\n",
    "beeline> !sh  hadoop fs -ls /user/root/grades\n",
    "\n",
    "\n",
    "beeline> create external table grades_ext (\n",
    "    year int,\n",
    "    term string,\n",
    "    course string,\n",
    "    credits int,\n",
    "    letter string\n",
    ") row format delimited\n",
    "fields terminated by '\\t'\n",
    "location '/user/root/grades';\n",
    "\n",
    "beeline> select * from grades_ext;\n",
    "\n",
    "# let’s “insert more data….\n",
    "beeline> !sh  hadoop fs -put /datasets/grades/fall2016.tsv /user/root/grades\n",
    "\n",
    "\n",
    "beeline> drop table grades_ext;\n",
    "\n",
    "# data is still there\n",
    "beeline> !sh hadoop fs -ls /user/cloudera/grades\n",
    "```\n"
   ]
  },
  {
   "cell_type": "markdown",
   "id": "7226c657-47df-4358-9f51-4dd871d92709",
   "metadata": {},
   "source": [
    "## Demo of Spark Concepts"
   ]
  },
  {
   "cell_type": "code",
   "execution_count": null,
   "id": "2b8bf8ba-2ae7-4863-8605-e15434a60a81",
   "metadata": {},
   "outputs": [],
   "source": [
    "import pyspark\n",
    "from pyspark.sql import SparkSession"
   ]
  },
  {
   "cell_type": "code",
   "execution_count": 1,
   "id": "efb59714-e46c-4f35-9698-8378ceba1d29",
   "metadata": {},
   "outputs": [
    {
     "name": "stderr",
     "output_type": "stream",
     "text": [
      "Warning: Ignoring non-Spark config property: hive.metastore.uris\n",
      "WARNING: An illegal reflective access operation has occurred\n",
      "WARNING: Illegal reflective access by org.apache.spark.unsafe.Platform (file:/usr/local/spark-3.1.2-bin-hadoop3.2/jars/spark-unsafe_2.12-3.1.2.jar) to constructor java.nio.DirectByteBuffer(long,int)\n",
      "WARNING: Please consider reporting this to the maintainers of org.apache.spark.unsafe.Platform\n",
      "WARNING: Use --illegal-access=warn to enable warnings of further illegal reflective access operations\n",
      "WARNING: All illegal access operations will be denied in a future release\n",
      "22/12/08 16:15:03 WARN NativeCodeLoader: Unable to load native-hadoop library for your platform... using builtin-java classes where applicable\n",
      "Using Spark's default log4j profile: org/apache/spark/log4j-defaults.properties\n",
      "Setting default log level to \"WARN\".\n",
      "To adjust logging level use sc.setLogLevel(newLevel). For SparkR, use setLogLevel(newLevel).\n",
      "22/12/08 16:15:03 WARN Utils: Service 'SparkUI' could not bind on port 4040. Attempting port 4041.\n",
      "22/12/08 16:15:03 WARN Utils: Service 'SparkUI' could not bind on port 4041. Attempting port 4042.\n"
     ]
    }
   ],
   "source": [
    "import pyspark\n",
    "from pyspark.sql import SparkSession\n",
    "\n",
    "spark = SparkSession \\\n",
    "    .builder \\\n",
    "    .master(\"local\") \\\n",
    "    .appName('jupyter-pyspark') \\\n",
    "        .config(\"hive.metastore.uris\", \n",
    "                \"thrift://hive-metastore:9083\") \\\n",
    "        .enableHiveSupport() \\\n",
    "    .getOrCreate()\n",
    "sc = spark.sparkContext\n",
    "sc.setLogLevel(\"ERROR\") # Keeps the noise down!!!"
   ]
  },
  {
   "cell_type": "code",
   "execution_count": 2,
   "id": "2f19cf02-61da-4a90-9f93-eb829d0fdd2c",
   "metadata": {},
   "outputs": [
    {
     "name": "stdout",
     "output_type": "stream",
     "text": [
      "+---+-----+----+-------+----------------+\n",
      "| id| name|type|shelter|years_at_shelter|\n",
      "+---+-----+----+-------+----------------+\n",
      "|  1| Fido| Dog|   SPCA|               1|\n",
      "|  2|Felix| Cat|   SPCA|               2|\n",
      "|  3|Rover| Dog|   SPCA|               1|\n",
      "+---+-----+----+-------+----------------+\n",
      "\n"
     ]
    },
    {
     "name": "stderr",
     "output_type": "stream",
     "text": [
      "                                                                                \r"
     ]
    }
   ],
   "source": [
    "data = [\n",
    "    (1, \"Fido\", \"Dog\",\"SPCA\",1),\n",
    "    (2, \"Felix\", \"Cat\", \"SPCA\",2),\n",
    "    (3, \"Rover\", \"Dog\",\"SPCA\",1)\n",
    "]\n",
    "cols = [\"id\",\"name\",\"type\",\"shelter\",\"years_at_shelter\"]\n",
    "pets = spark.createDataFrame(data = data, schema = cols)\n",
    "pets.show()"
   ]
  },
  {
   "cell_type": "code",
   "execution_count": null,
   "id": "41402d0e-2018-4c90-8ed1-e755257920b2",
   "metadata": {},
   "outputs": [],
   "source": [
    "#Filter then sort, then select\n",
    "plan = pets.where( pets['years_at_shelter'] ==1).sort(\"name\").select(\"name\",\"type\")\n",
    "plan.explain()\n",
    "plan.show()"
   ]
  },
  {
   "cell_type": "code",
   "execution_count": null,
   "id": "a0552470-da0c-4f6a-ac0c-cd0b2bbc323a",
   "metadata": {},
   "outputs": [],
   "source": [
    "# select, filter then sort\n",
    "plan = pets.select(\"name\",\"type\").where( pets['years_at_shelter'] ==1).sort(\"name\")\n",
    "plan.explain()\n",
    "plan.show()"
   ]
  },
  {
   "cell_type": "code",
   "execution_count": null,
   "id": "cecdd2cf",
   "metadata": {},
   "outputs": [],
   "source": [
    "plan1 = pets.select(\"name\",\"type\")\n",
    "plan2 = plan1.where( pets['years_at_shelter'] ==1)\n",
    "plan = plan2.sort(\"name\")\n",
    "plan.explain()\n",
    "plan.show()"
   ]
  },
  {
   "cell_type": "markdown",
   "id": "329c3f84-89b1-4704-baa6-04cf25982be5",
   "metadata": {
    "tags": []
   },
   "source": [
    "## Demo of Hive / Spark Integration"
   ]
  },
  {
   "cell_type": "code",
   "execution_count": null,
   "id": "20e4a629-484a-4ae3-b4e9-a6c7c76d2584",
   "metadata": {},
   "outputs": [],
   "source": [
    "spark.sql(\"drop table if exists default.grades\")\n",
    "spark.sql(\"\"\"\n",
    "create external table default.grades (\n",
    "  year int,\n",
    "  semester string,\n",
    "  course string,\n",
    "  credits int,\n",
    "  grade string\n",
    ") \n",
    "row format delimited \n",
    "fields terminated by '\\t' \n",
    "location  'hdfs:///user/root/grades/*.tsv'\n",
    "\"\"\")\n",
    "spark.sql(\"select * from default.grades\").show()"
   ]
  },
  {
   "cell_type": "code",
   "execution_count": null,
   "id": "e02ee119-b342-410c-9eff-db635ba8e8e8",
   "metadata": {},
   "outputs": [],
   "source": [
    "spark.sql('''\n",
    "select sum(credits), year, semester \n",
    "from default.grades \n",
    "group by year, semester\n",
    "''').explain()"
   ]
  },
  {
   "cell_type": "code",
   "execution_count": null,
   "id": "f1de6623-40f5-4458-bd15-3ac2525da131",
   "metadata": {},
   "outputs": [],
   "source": [
    "# Hive Internal Table create stuff.\n",
    "\n",
    "spark.sql(\"\"\"drop table if exists default.department\"\"\")\n",
    "spark.sql(\"\"\"CREATE TABLE default.department(\n",
    "department_id int ,\n",
    "department_name string\n",
    ")    \n",
    "\"\"\")\n",
    "spark.sql(\"\"\"\n",
    "INSERT INTO default.department values (101,\"Oncology\")    \n",
    "\"\"\")\n",
    "spark.sql(\"\"\"\n",
    "INSERT INTO default.department values (102,\"Hematology\")    \n",
    "\"\"\")\n",
    "spark.sql(\"SELECT * FROM default.department\").show()"
   ]
  },
  {
   "cell_type": "code",
   "execution_count": null,
   "id": "5f876c00-c444-421b-b840-b910a6ca4ac0",
   "metadata": {},
   "outputs": [],
   "source": [
    "spark.sql(\"create table default.department2 stored as avro as select * from default.department\")"
   ]
  },
  {
   "cell_type": "code",
   "execution_count": null,
   "id": "78e1c816-bb5a-400b-b2b0-33a5699ff276",
   "metadata": {},
   "outputs": [],
   "source": [
    "spark.sql(\"select * from default.department2\").show()"
   ]
  },
  {
   "cell_type": "code",
   "execution_count": null,
   "id": "360a716c-a36d-4bc6-82fc-936b62730c57",
   "metadata": {},
   "outputs": [],
   "source": []
  }
 ],
 "metadata": {
  "kernelspec": {
   "display_name": "Python 3 (ipykernel)",
   "language": "python",
   "name": "python3"
  },
  "language_info": {
   "codemirror_mode": {
    "name": "ipython",
    "version": 3
   },
   "file_extension": ".py",
   "mimetype": "text/x-python",
   "name": "python",
   "nbconvert_exporter": "python",
   "pygments_lexer": "ipython3",
   "version": "3.9.6"
  }
 },
 "nbformat": 4,
 "nbformat_minor": 5
}
